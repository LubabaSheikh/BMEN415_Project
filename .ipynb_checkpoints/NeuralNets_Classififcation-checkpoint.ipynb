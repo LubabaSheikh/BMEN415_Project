{
 "cells": [
  {
   "cell_type": "code",
   "execution_count": 1,
   "id": "d2028ab3",
   "metadata": {},
   "outputs": [
    {
     "data": {
      "text/html": [
       "<div>\n",
       "<style scoped>\n",
       "    .dataframe tbody tr th:only-of-type {\n",
       "        vertical-align: middle;\n",
       "    }\n",
       "\n",
       "    .dataframe tbody tr th {\n",
       "        vertical-align: top;\n",
       "    }\n",
       "\n",
       "    .dataframe thead th {\n",
       "        text-align: right;\n",
       "    }\n",
       "</style>\n",
       "<table border=\"1\" class=\"dataframe\">\n",
       "  <thead>\n",
       "    <tr style=\"text-align: right;\">\n",
       "      <th></th>\n",
       "      <th>Pregnancies</th>\n",
       "      <th>Glucose</th>\n",
       "      <th>BloodPressure</th>\n",
       "      <th>SkinThickness</th>\n",
       "      <th>Insulin</th>\n",
       "      <th>BMI</th>\n",
       "      <th>DiabetesPedigreeFunction</th>\n",
       "      <th>Age</th>\n",
       "      <th>Outcome</th>\n",
       "    </tr>\n",
       "  </thead>\n",
       "  <tbody>\n",
       "    <tr>\n",
       "      <th>0</th>\n",
       "      <td>6</td>\n",
       "      <td>148</td>\n",
       "      <td>72</td>\n",
       "      <td>35</td>\n",
       "      <td>0</td>\n",
       "      <td>33.6</td>\n",
       "      <td>0.627</td>\n",
       "      <td>50</td>\n",
       "      <td>1</td>\n",
       "    </tr>\n",
       "    <tr>\n",
       "      <th>1</th>\n",
       "      <td>1</td>\n",
       "      <td>85</td>\n",
       "      <td>66</td>\n",
       "      <td>29</td>\n",
       "      <td>0</td>\n",
       "      <td>26.6</td>\n",
       "      <td>0.351</td>\n",
       "      <td>31</td>\n",
       "      <td>0</td>\n",
       "    </tr>\n",
       "    <tr>\n",
       "      <th>2</th>\n",
       "      <td>8</td>\n",
       "      <td>183</td>\n",
       "      <td>64</td>\n",
       "      <td>0</td>\n",
       "      <td>0</td>\n",
       "      <td>23.3</td>\n",
       "      <td>0.672</td>\n",
       "      <td>32</td>\n",
       "      <td>1</td>\n",
       "    </tr>\n",
       "    <tr>\n",
       "      <th>3</th>\n",
       "      <td>1</td>\n",
       "      <td>89</td>\n",
       "      <td>66</td>\n",
       "      <td>23</td>\n",
       "      <td>94</td>\n",
       "      <td>28.1</td>\n",
       "      <td>0.167</td>\n",
       "      <td>21</td>\n",
       "      <td>0</td>\n",
       "    </tr>\n",
       "    <tr>\n",
       "      <th>4</th>\n",
       "      <td>0</td>\n",
       "      <td>137</td>\n",
       "      <td>40</td>\n",
       "      <td>35</td>\n",
       "      <td>168</td>\n",
       "      <td>43.1</td>\n",
       "      <td>2.288</td>\n",
       "      <td>33</td>\n",
       "      <td>1</td>\n",
       "    </tr>\n",
       "  </tbody>\n",
       "</table>\n",
       "</div>"
      ],
      "text/plain": [
       "   Pregnancies  Glucose  BloodPressure  SkinThickness  Insulin   BMI  \\\n",
       "0            6      148             72             35        0  33.6   \n",
       "1            1       85             66             29        0  26.6   \n",
       "2            8      183             64              0        0  23.3   \n",
       "3            1       89             66             23       94  28.1   \n",
       "4            0      137             40             35      168  43.1   \n",
       "\n",
       "   DiabetesPedigreeFunction  Age  Outcome  \n",
       "0                     0.627   50        1  \n",
       "1                     0.351   31        0  \n",
       "2                     0.672   32        1  \n",
       "3                     0.167   21        0  \n",
       "4                     2.288   33        1  "
      ]
     },
     "execution_count": 1,
     "metadata": {},
     "output_type": "execute_result"
    }
   ],
   "source": [
    "# https://www.pluralsight.com/guides/deep-learning-model-perform-binary-classification\n",
    "\n",
    "# Import Data\n",
    "import pandas as pd\n",
    "df = pd.read_csv('Group16_ClassificationData.csv')\n",
    "df.head()"
   ]
  },
  {
   "cell_type": "code",
   "execution_count": 2,
   "id": "f3f19bcf",
   "metadata": {},
   "outputs": [
    {
     "name": "stdout",
     "output_type": "stream",
     "text": [
      "['Pregnancies', 'Glucose', 'BloodPressure', 'SkinThickness', 'Insulin', 'BMI', 'DiabetesPedigreeFunction', 'Age']\n"
     ]
    }
   ],
   "source": [
    "# Splitting data set into train and test using Feature Matrix and Dependent Vector\n",
    "properties = list(df.columns.values)\n",
    "properties.remove('Outcome') # remove the outcome\n",
    "print(properties)\n",
    "X = df[properties]\n",
    "y = df['Outcome'] # y vector is the Outcome"
   ]
  },
  {
   "cell_type": "code",
   "execution_count": 3,
   "id": "e2c14a44",
   "metadata": {},
   "outputs": [
    {
     "data": {
      "text/html": [
       "<div>\n",
       "<style scoped>\n",
       "    .dataframe tbody tr th:only-of-type {\n",
       "        vertical-align: middle;\n",
       "    }\n",
       "\n",
       "    .dataframe tbody tr th {\n",
       "        vertical-align: top;\n",
       "    }\n",
       "\n",
       "    .dataframe thead th {\n",
       "        text-align: right;\n",
       "    }\n",
       "</style>\n",
       "<table border=\"1\" class=\"dataframe\">\n",
       "  <thead>\n",
       "    <tr style=\"text-align: right;\">\n",
       "      <th></th>\n",
       "      <th>Pregnancies</th>\n",
       "      <th>Glucose</th>\n",
       "      <th>BloodPressure</th>\n",
       "      <th>SkinThickness</th>\n",
       "      <th>Insulin</th>\n",
       "      <th>BMI</th>\n",
       "      <th>DiabetesPedigreeFunction</th>\n",
       "      <th>Age</th>\n",
       "    </tr>\n",
       "  </thead>\n",
       "  <tbody>\n",
       "    <tr>\n",
       "      <th>0</th>\n",
       "      <td>6</td>\n",
       "      <td>148</td>\n",
       "      <td>72</td>\n",
       "      <td>35</td>\n",
       "      <td>0</td>\n",
       "      <td>33.6</td>\n",
       "      <td>0.627</td>\n",
       "      <td>50</td>\n",
       "    </tr>\n",
       "    <tr>\n",
       "      <th>1</th>\n",
       "      <td>1</td>\n",
       "      <td>85</td>\n",
       "      <td>66</td>\n",
       "      <td>29</td>\n",
       "      <td>0</td>\n",
       "      <td>26.6</td>\n",
       "      <td>0.351</td>\n",
       "      <td>31</td>\n",
       "    </tr>\n",
       "    <tr>\n",
       "      <th>2</th>\n",
       "      <td>8</td>\n",
       "      <td>183</td>\n",
       "      <td>64</td>\n",
       "      <td>0</td>\n",
       "      <td>0</td>\n",
       "      <td>23.3</td>\n",
       "      <td>0.672</td>\n",
       "      <td>32</td>\n",
       "    </tr>\n",
       "    <tr>\n",
       "      <th>3</th>\n",
       "      <td>1</td>\n",
       "      <td>89</td>\n",
       "      <td>66</td>\n",
       "      <td>23</td>\n",
       "      <td>94</td>\n",
       "      <td>28.1</td>\n",
       "      <td>0.167</td>\n",
       "      <td>21</td>\n",
       "    </tr>\n",
       "    <tr>\n",
       "      <th>4</th>\n",
       "      <td>0</td>\n",
       "      <td>137</td>\n",
       "      <td>40</td>\n",
       "      <td>35</td>\n",
       "      <td>168</td>\n",
       "      <td>43.1</td>\n",
       "      <td>2.288</td>\n",
       "      <td>33</td>\n",
       "    </tr>\n",
       "  </tbody>\n",
       "</table>\n",
       "</div>"
      ],
      "text/plain": [
       "   Pregnancies  Glucose  BloodPressure  SkinThickness  Insulin   BMI  \\\n",
       "0            6      148             72             35        0  33.6   \n",
       "1            1       85             66             29        0  26.6   \n",
       "2            8      183             64              0        0  23.3   \n",
       "3            1       89             66             23       94  28.1   \n",
       "4            0      137             40             35      168  43.1   \n",
       "\n",
       "   DiabetesPedigreeFunction  Age  \n",
       "0                     0.627   50  \n",
       "1                     0.351   31  \n",
       "2                     0.672   32  \n",
       "3                     0.167   21  \n",
       "4                     2.288   33  "
      ]
     },
     "execution_count": 3,
     "metadata": {},
     "output_type": "execute_result"
    }
   ],
   "source": [
    "# Print X\n",
    "X.head()"
   ]
  },
  {
   "cell_type": "code",
   "execution_count": 4,
   "id": "1841eeec",
   "metadata": {},
   "outputs": [
    {
     "data": {
      "text/plain": [
       "0    1\n",
       "1    0\n",
       "2    1\n",
       "3    0\n",
       "4    1\n",
       "Name: Outcome, dtype: int64"
      ]
     },
     "execution_count": 4,
     "metadata": {},
     "output_type": "execute_result"
    }
   ],
   "source": [
    "# Print y\n",
    "y.head()"
   ]
  },
  {
   "cell_type": "code",
   "execution_count": 5,
   "id": "8619e713",
   "metadata": {},
   "outputs": [],
   "source": [
    "# The next step will be to divide the data into test and train sets. This is achieved using test_train_split function provided \n",
    "# in the model_selection class of sklearn module. 80% train, 20% test\n",
    "\n",
    "from sklearn.model_selection import train_test_split\n",
    "X_train, X_test, y_train, y_test = train_test_split(X, y, test_size=0.20, random_state=0)"
   ]
  },
  {
   "cell_type": "code",
   "execution_count": 6,
   "id": "0b1f437a",
   "metadata": {},
   "outputs": [],
   "source": [
    "# Model Creation\n",
    "# The above code creates a Neural Network that has three layers. There are two layers of 16 nodes each and one output node. \n",
    "# The last node uses the sigmoid activation function. The other two layers use ReLU (Rectified Linear Units) as the activation function.\n",
    "import keras\n",
    "import tensorflow as tf\n",
    "from keras.models import Sequential\n",
    "from keras.layers import Dense, Dropout, Activation\n",
    "model = keras.Sequential([\n",
    "    keras.layers.Flatten(input_shape=(8,)), # needs to be 8 because of 8 features in data\n",
    "    keras.layers.Dense(16, activation=tf.nn.relu),\n",
    "    keras.layers.Dense(16, activation=tf.nn.relu),\n",
    "    keras.layers.Dense(1, activation=tf.nn.sigmoid),\n",
    "])"
   ]
  },
  {
   "cell_type": "code",
   "execution_count": 7,
   "id": "9fb79548",
   "metadata": {},
   "outputs": [
    {
     "name": "stdout",
     "output_type": "stream",
     "text": [
      "Epoch 1/50\n",
      "614/614 [==============================] - 1s 1ms/step - loss: 2.5929 - accuracy: 0.5326\n",
      "Epoch 2/50\n",
      "614/614 [==============================] - 1s 1ms/step - loss: 1.2040 - accuracy: 0.6238\n",
      "Epoch 3/50\n",
      "614/614 [==============================] - 1s 1ms/step - loss: 1.1321 - accuracy: 0.6173\n",
      "Epoch 4/50\n",
      "614/614 [==============================] - 1s 1ms/step - loss: 0.9773 - accuracy: 0.6221\n",
      "Epoch 5/50\n",
      "614/614 [==============================] - 1s 1ms/step - loss: 0.9342 - accuracy: 0.6498\n",
      "Epoch 6/50\n",
      "614/614 [==============================] - 1s 1ms/step - loss: 0.9638 - accuracy: 0.6433\n",
      "Epoch 7/50\n",
      "614/614 [==============================] - 1s 1ms/step - loss: 0.9277 - accuracy: 0.6466\n",
      "Epoch 8/50\n",
      "614/614 [==============================] - 1s 1ms/step - loss: 0.8296 - accuracy: 0.6645\n",
      "Epoch 9/50\n",
      "614/614 [==============================] - 1s 1ms/step - loss: 0.7957 - accuracy: 0.6466\n",
      "Epoch 10/50\n",
      "614/614 [==============================] - 1s 1ms/step - loss: 0.7724 - accuracy: 0.6498\n",
      "Epoch 11/50\n",
      "614/614 [==============================] - 1s 1ms/step - loss: 0.7279 - accuracy: 0.6759\n",
      "Epoch 12/50\n",
      "614/614 [==============================] - 1s 1ms/step - loss: 0.7333 - accuracy: 0.6612\n",
      "Epoch 13/50\n",
      "614/614 [==============================] - 1s 1ms/step - loss: 0.7054 - accuracy: 0.6922\n",
      "Epoch 14/50\n",
      "614/614 [==============================] - 1s 1ms/step - loss: 0.6585 - accuracy: 0.6873\n",
      "Epoch 15/50\n",
      "614/614 [==============================] - 1s 1ms/step - loss: 0.6394 - accuracy: 0.6726\n",
      "Epoch 16/50\n",
      "614/614 [==============================] - 1s 1ms/step - loss: 0.6079 - accuracy: 0.7134\n",
      "Epoch 17/50\n",
      "614/614 [==============================] - 1s 1ms/step - loss: 0.6211 - accuracy: 0.6987\n",
      "Epoch 18/50\n",
      "614/614 [==============================] - 1s 1ms/step - loss: 0.6228 - accuracy: 0.6857\n",
      "Epoch 19/50\n",
      "614/614 [==============================] - 1s 1ms/step - loss: 0.6323 - accuracy: 0.6840\n",
      "Epoch 20/50\n",
      "614/614 [==============================] - 1s 1ms/step - loss: 0.5895 - accuracy: 0.6987\n",
      "Epoch 21/50\n",
      "614/614 [==============================] - 1s 1ms/step - loss: 0.5842 - accuracy: 0.6987\n",
      "Epoch 22/50\n",
      "614/614 [==============================] - 1s 1ms/step - loss: 0.5995 - accuracy: 0.6840\n",
      "Epoch 23/50\n",
      "614/614 [==============================] - 1s 1ms/step - loss: 0.5667 - accuracy: 0.7134\n",
      "Epoch 24/50\n",
      "614/614 [==============================] - 1s 1ms/step - loss: 0.5953 - accuracy: 0.7117\n",
      "Epoch 25/50\n",
      "614/614 [==============================] - 1s 1ms/step - loss: 0.5790 - accuracy: 0.6743\n",
      "Epoch 26/50\n",
      "614/614 [==============================] - 1s 1ms/step - loss: 0.5766 - accuracy: 0.7101\n",
      "Epoch 27/50\n",
      "614/614 [==============================] - 1s 1ms/step - loss: 0.5651 - accuracy: 0.7036\n",
      "Epoch 28/50\n",
      "614/614 [==============================] - 1s 1ms/step - loss: 0.5618 - accuracy: 0.7215\n",
      "Epoch 29/50\n",
      "614/614 [==============================] - 1s 1ms/step - loss: 0.5713 - accuracy: 0.7134\n",
      "Epoch 30/50\n",
      "614/614 [==============================] - 1s 1ms/step - loss: 0.5602 - accuracy: 0.7215\n",
      "Epoch 31/50\n",
      "614/614 [==============================] - 1s 1ms/step - loss: 0.5521 - accuracy: 0.7068\n",
      "Epoch 32/50\n",
      "614/614 [==============================] - 1s 1ms/step - loss: 0.5473 - accuracy: 0.7443\n",
      "Epoch 33/50\n",
      "614/614 [==============================] - 1s 1ms/step - loss: 0.5261 - accuracy: 0.7378\n",
      "Epoch 34/50\n",
      "614/614 [==============================] - 1s 1ms/step - loss: 0.5242 - accuracy: 0.7443\n",
      "Epoch 35/50\n",
      "614/614 [==============================] - 1s 1ms/step - loss: 0.5364 - accuracy: 0.7362\n",
      "Epoch 36/50\n",
      "614/614 [==============================] - 1s 1ms/step - loss: 0.5392 - accuracy: 0.7199\n",
      "Epoch 37/50\n",
      "614/614 [==============================] - 1s 1ms/step - loss: 0.5533 - accuracy: 0.7134\n",
      "Epoch 38/50\n",
      "614/614 [==============================] - 1s 1ms/step - loss: 0.5319 - accuracy: 0.7248\n",
      "Epoch 39/50\n",
      "614/614 [==============================] - 1s 1ms/step - loss: 0.5366 - accuracy: 0.7378\n",
      "Epoch 40/50\n",
      "614/614 [==============================] - 1s 1ms/step - loss: 0.5318 - accuracy: 0.7345\n",
      "Epoch 41/50\n",
      "614/614 [==============================] - 1s 1ms/step - loss: 0.5347 - accuracy: 0.7378\n",
      "Epoch 42/50\n",
      "614/614 [==============================] - 1s 1ms/step - loss: 0.5391 - accuracy: 0.7378\n",
      "Epoch 43/50\n",
      "614/614 [==============================] - 1s 1ms/step - loss: 0.5187 - accuracy: 0.7394\n",
      "Epoch 44/50\n",
      "614/614 [==============================] - 1s 1ms/step - loss: 0.5316 - accuracy: 0.7508\n",
      "Epoch 45/50\n",
      "614/614 [==============================] - 1s 1ms/step - loss: 0.5264 - accuracy: 0.7345\n",
      "Epoch 46/50\n",
      "614/614 [==============================] - 1s 1ms/step - loss: 0.5219 - accuracy: 0.7264\n",
      "Epoch 47/50\n",
      "614/614 [==============================] - 1s 1ms/step - loss: 0.5092 - accuracy: 0.7557\n",
      "Epoch 48/50\n",
      "614/614 [==============================] - 1s 1ms/step - loss: 0.5205 - accuracy: 0.7378\n",
      "Epoch 49/50\n",
      "614/614 [==============================] - 1s 1ms/step - loss: 0.5392 - accuracy: 0.7166\n",
      "Epoch 50/50\n",
      "614/614 [==============================] - 1s 1ms/step - loss: 0.5241 - accuracy: 0.7362\n",
      "5/5 [==============================] - 0s 1ms/step - loss: 0.5729 - accuracy: 0.7338\n"
     ]
    }
   ],
   "source": [
    "# Model compilation\n",
    "model.compile(optimizer='adam',\n",
    "              loss='binary_crossentropy',\n",
    "              metrics=['accuracy'])\n",
    "\n",
    "model.fit(X_train, y_train, epochs=50, batch_size=1)\n",
    "test_loss, test_acc = model.evaluate(X_test, y_test)"
   ]
  },
  {
   "cell_type": "code",
   "execution_count": 8,
   "id": "5c3ef917",
   "metadata": {},
   "outputs": [
    {
     "name": "stdout",
     "output_type": "stream",
     "text": [
      "5/5 [==============================] - 0s 1ms/step - loss: 0.5729 - accuracy: 0.7338\n",
      "[0.5728902220726013, 0.7337662577629089]\n"
     ]
    }
   ],
   "source": [
    "# Print score/accuracy\n",
    "score = model.evaluate(X_test, y_test,verbose=1)\n",
    "print(score)"
   ]
  },
  {
   "cell_type": "code",
   "execution_count": 12,
   "id": "267b0989",
   "metadata": {},
   "outputs": [
    {
     "name": "stdout",
     "output_type": "stream",
     "text": [
      "[[107   0]\n",
      " [ 47   0]]\n"
     ]
    }
   ],
   "source": [
    "# Now run predictions on test data\n",
    "import numpy as np\n",
    "y_predict = np.argmax(model.predict(X_test), axis=1)\n",
    "# Print Confusion Matrix\n",
    "from sklearn.metrics import classification_report, confusion_matrix\n",
    "print(confusion_matrix(y_test, y_predict))"
   ]
  },
  {
   "cell_type": "code",
   "execution_count": null,
   "id": "9a15d1b3",
   "metadata": {},
   "outputs": [],
   "source": [
    "from eiffel2 import builder\n",
    "builder([8, 16, 16, 1 , 1], bmode='night')"
   ]
  },
  {
   "cell_type": "code",
   "execution_count": 9,
   "id": "36f28998",
   "metadata": {},
   "outputs": [
    {
     "ename": "NameError",
     "evalue": "name 'np' is not defined",
     "output_type": "error",
     "traceback": [
      "\u001b[1;31m---------------------------------------------------------------------------\u001b[0m",
      "\u001b[1;31mNameError\u001b[0m                                 Traceback (most recent call last)",
      "\u001b[1;32m~\\AppData\\Local\\Temp/ipykernel_23808/3454212060.py\u001b[0m in \u001b[0;36m<module>\u001b[1;34m\u001b[0m\n\u001b[0;32m      1\u001b[0m \u001b[1;31m# Use trained model to predict\u001b[0m\u001b[1;33m\u001b[0m\u001b[1;33m\u001b[0m\u001b[0m\n\u001b[1;32m----> 2\u001b[1;33m \u001b[0ma\u001b[0m\u001b[1;33m=\u001b[0m \u001b[0mnp\u001b[0m\u001b[1;33m.\u001b[0m\u001b[0marray\u001b[0m\u001b[1;33m(\u001b[0m\u001b[1;33m[\u001b[0m\u001b[1;33m[\u001b[0m\u001b[1;36m4.02\u001b[0m\u001b[1;33m,\u001b[0m\u001b[1;36m70.86\u001b[0m\u001b[1;33m,\u001b[0m\u001b[1;36m62.05\u001b[0m\u001b[1;33m,\u001b[0m\u001b[1;36m7.0\u001b[0m\u001b[1;33m]\u001b[0m\u001b[1;33m,\u001b[0m\u001b[1;33m[\u001b[0m\u001b[1;36m2.99\u001b[0m\u001b[1;33m,\u001b[0m\u001b[1;36m60.30\u001b[0m\u001b[1;33m,\u001b[0m\u001b[1;36m57.46\u001b[0m\u001b[1;33m,\u001b[0m\u001b[1;36m6.06\u001b[0m\u001b[1;33m]\u001b[0m\u001b[1;33m]\u001b[0m\u001b[1;33m)\u001b[0m\u001b[1;33m\u001b[0m\u001b[1;33m\u001b[0m\u001b[0m\n\u001b[0m\u001b[0;32m      3\u001b[0m \u001b[0mprint\u001b[0m\u001b[1;33m(\u001b[0m\u001b[0mmodel\u001b[0m\u001b[1;33m.\u001b[0m\u001b[0mpredict\u001b[0m\u001b[1;33m(\u001b[0m\u001b[0ma\u001b[0m\u001b[1;33m)\u001b[0m\u001b[1;33m)\u001b[0m\u001b[1;33m\u001b[0m\u001b[1;33m\u001b[0m\u001b[0m\n",
      "\u001b[1;31mNameError\u001b[0m: name 'np' is not defined"
     ]
    }
   ],
   "source": [
    "# Use trained model to predict \n",
    "a= np.array([[4.02,70.86,62.05,7.0],[2.99,60.30,57.46,6.06]])\n",
    "print(model.predict(a))"
   ]
  }
 ],
 "metadata": {
  "kernelspec": {
   "display_name": "Python 3 (ipykernel)",
   "language": "python",
   "name": "python3"
  },
  "language_info": {
   "codemirror_mode": {
    "name": "ipython",
    "version": 3
   },
   "file_extension": ".py",
   "mimetype": "text/x-python",
   "name": "python",
   "nbconvert_exporter": "python",
   "pygments_lexer": "ipython3",
   "version": "3.9.7"
  }
 },
 "nbformat": 4,
 "nbformat_minor": 5
}
