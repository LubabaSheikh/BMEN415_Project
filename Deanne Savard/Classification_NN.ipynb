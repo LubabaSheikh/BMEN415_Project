{
  "cells": [
    {
      "cell_type": "code",
      "execution_count": null,
      "id": "9dc97774",
      "metadata": {
        "id": "9dc97774",
        "outputId": "a594e8fc-ab34-4560-c28f-9764ec8f6b04"
      },
      "outputs": [
        {
          "name": "stdout",
          "output_type": "stream",
          "text": [
            "<class 'pandas.core.frame.DataFrame'>\n",
            "RangeIndex: 768 entries, 0 to 767\n",
            "Data columns (total 8 columns):\n",
            " #   Column                    Non-Null Count  Dtype  \n",
            "---  ------                    --------------  -----  \n",
            " 0   Pregnancies               768 non-null    int64  \n",
            " 1   Glucose                   768 non-null    int64  \n",
            " 2   BloodPressure             768 non-null    int64  \n",
            " 3   SkinThickness             768 non-null    int64  \n",
            " 4   Insulin                   768 non-null    int64  \n",
            " 5   BMI                       768 non-null    float64\n",
            " 6   DiabetesPedigreeFunction  768 non-null    float64\n",
            " 7   Age                       768 non-null    int64  \n",
            "dtypes: float64(2), int64(6)\n",
            "memory usage: 48.1 KB\n"
          ]
        }
      ],
      "source": [
        "import numpy as np\n",
        "import pandas as pd \n",
        "import matplotlib.pyplot as plt\n",
        "import sklearn\n",
        "from sklearn.linear_model import LinearRegression\n",
        "from sklearn import datasets, linear_model\n",
        "from sklearn.metrics import mean_squared_error\n",
        "import seaborn as sns  # Imorting Seaborn library\n",
        "import os\n",
        "from sklearn.neural_network import MLPRegressor\n",
        "from sklearn.datasets import make_regression\n",
        "from sklearn.model_selection import train_test_split\n",
        "from sklearn.tree import DecisionTreeClassifier\n",
        "from sklearn.metrics import confusion_matrix\n",
        "#, r2_score\n",
        "\n",
        "\n",
        "df=pd.read_csv('Group16_ClassificationData.csv')\n",
        "df.head()\n",
        "df.tail()\n",
        "y=df.Outcome\n",
        "x = df.drop([\"Outcome\"], axis=1) \n",
        "x.info()\n",
        "x_train, x_test, y_train, y_test = train_test_split(x, y,test_size=0.2)\n"
      ]
    },
    {
      "cell_type": "code",
      "execution_count": null,
      "id": "a0833835",
      "metadata": {
        "id": "a0833835",
        "outputId": "8e8556a6-72fd-41b3-83c6-d99b7824cda4"
      },
      "outputs": [
        {
          "data": {
            "text/plain": [
              "MLPClassifier(alpha=1e-05, hidden_layer_sizes=(10, 10, 10, 10, 10, 10, 10),\n",
              "              max_iter=1000, random_state=1, solver='lbfgs')"
            ]
          },
          "execution_count": 2,
          "metadata": {},
          "output_type": "execute_result"
        }
      ],
      "source": [
        "from sklearn.neural_network import MLPClassifier\n",
        "from sklearn.metrics import accuracy_score\n",
        "\n",
        "#Quasi-Newton optimizer= no learning rate\n",
        "#ReLu activation\n",
        "#L2 penalty very small 0.00001\n",
        "#Max 200 iterations\n",
        "\n",
        "clf = MLPClassifier(solver='lbfgs', alpha=1e-5, hidden_layer_sizes=(10,10,10,10,10,10,10), random_state=1, max_iter=1000) \n",
        "clf.fit(x_train, y_train)\n",
        "\n"
      ]
    },
    {
      "cell_type": "code",
      "execution_count": null,
      "id": "c7197691",
      "metadata": {
        "id": "c7197691",
        "outputId": "858feec9-6b59-4785-a7d5-1c4b87d1a958"
      },
      "outputs": [
        {
          "name": "stdout",
          "output_type": "stream",
          "text": [
            "Training Accuracy for NN Model:  0.7687296416938111\n",
            "Testing Accuracy for NN Model:  0.8051948051948052\n",
            "RMSE for Training Data:  0.4809057686347596\n",
            "RMSE for Testing Data:  0.4413674147523748\n"
          ]
        }
      ],
      "source": [
        "from sklearn.metrics import accuracy_score\n",
        "from sklearn.metrics import mean_squared_error  # For MSE\n",
        "from math import sqrt  # For squareroot operation\n",
        "\n",
        "y_pred_test = clf.predict(x_test)\n",
        "y_pred_train = clf.predict(x_train)\n",
        "\n",
        "\n",
        "Acc_train = accuracy_score(y_train, y_pred_train)\n",
        "print(\"Training Accuracy for NN Model: \", Acc_train)\n",
        "\n",
        "Acc_test = accuracy_score(y_test, y_pred_test)\n",
        "print(\"Testing Accuracy for NN Model: \", Acc_test)"
      ]
    },
    {
      "cell_type": "code",
      "execution_count": null,
      "id": "f2f5850b",
      "metadata": {
        "id": "f2f5850b",
        "outputId": "30aad8a0-c2ea-455d-c1ab-51f8298542bc"
      },
      "outputs": [
        {
          "data": {
            "image/png": "[encoded data removed]",
            "text/plain": [
              "<Figure size 504x360 with 2 Axes>"
            ]
          },
          "metadata": {
            "needs_background": "light"
          },
          "output_type": "display_data"
        }
      ],
      "source": [
        "# plotting correlation heatmap\n",
        "plt.figure(figsize = (7,5))\n",
        "sns.set(font_scale=3.0)\n",
        "dataplot=sns.heatmap(confusion_matrix(y_test, y_pred_test)/100,annot=True, fmt='.2f', cmap='RdYlGn')"
      ]
    },
    {
      "cell_type": "code",
      "execution_count": null,
      "id": "9ce41b3e",
      "metadata": {
        "id": "9ce41b3e"
      },
      "outputs": [],
      "source": [
        "from eiffel2 import builder\n",
        "\n",
        "builder([8,10,10,10,10,10,10,10,2], bmode=\"night\") #Will bring up new window to show NN architecture"
      ]
    }
  ],
  "metadata": {
    "colab": {
      "name": "Classification NN.ipynb",
      "provenance": []
    },
    "kernelspec": {
      "display_name": "Python 3 (ipykernel)",
      "language": "python",
      "name": "python3"
    },
    "language_info": {
      "codemirror_mode": {
        "name": "ipython",
        "version": 3
      },
      "file_extension": ".py",
      "mimetype": "text/x-python",
      "name": "python",
      "nbconvert_exporter": "python",
      "pygments_lexer": "ipython3",
      "version": "3.9.7"
    }
  },
  "nbformat": 4,
  "nbformat_minor": 5
}
