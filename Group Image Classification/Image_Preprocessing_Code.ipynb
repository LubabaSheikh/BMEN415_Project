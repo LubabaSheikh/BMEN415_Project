{
  "cells": [
    {
      "cell_type": "markdown",
      "metadata": {
        "id": "RXKFWGppYCSQ"
      },
      "source": [
        "# DO NOT RUN THE CELLS, The images have already been processed"
      ]
    },
    {
      "cell_type": "code",
      "execution_count": null,
      "metadata": {
        "id": "ChsclhMjkyBq"
      },
      "outputs": [],
      "source": [
        "# Importing Libraries\n",
        "import matplotlib.pyplot as plt\n",
        "import seaborn as sns\n",
        "\n",
        "import keras\n",
        "from keras.models import Sequential\n",
        "from keras.layers import Dense, Conv2D , MaxPool2D , Flatten , Dropout \n",
        "from keras.preprocessing.image import ImageDataGenerator\n",
        "from tensorflow.keras.optimizers import Adam # - Works\n",
        "\n",
        "from sklearn.metrics import classification_report,confusion_matrix\n",
        "\n",
        "import tensorflow as tf\n",
        "\n",
        "import cv2\n",
        "import os\n",
        "\n",
        "import numpy as np"
      ]
    },
    {
      "cell_type": "code",
      "execution_count": null,
      "metadata": {
        "colab": {
          "base_uri": "https://localhost:8080/"
        },
        "id": "k7ooaZaknlmv",
        "outputId": "7eaec768-4501-45cf-9856-589799b072a1"
      },
      "outputs": [
        {
          "name": "stdout",
          "output_type": "stream",
          "text": [
            "Mounted at /content/drive\n"
          ]
        }
      ],
      "source": [
        "from google.colab import drive\n",
        "drive.mount('/content/drive')"
      ]
    },
    {
      "cell_type": "code",
      "execution_count": null,
      "metadata": {
        "id": "HTfM7Yk9n-uI"
      },
      "outputs": [],
      "source": [
        "# Loading data\n",
        "# dataset_url = '/content/drive/MyDrive/BMEN 415/Preliminary Project Submission/Data Samples/chest_xray (1)'\n",
        "# train_data_url = '/content/drive/MyDrive/BMEN 415/Preliminary Project Submission/Data Samples/chest_xray (1)/train'\n",
        "# val_data_url = '/content/drive/MyDrive/BMEN 415/Preliminary Project Submission/Data Samples/chest_xray (1)/val'\n",
        "# test_data_url = '/content/drive/MyDrive/BMEN 415/Preliminary Project Submission/Data Samples/chest_xray (1)/test'"
      ]
    },
    {
      "cell_type": "code",
      "execution_count": null,
      "metadata": {
        "id": "_tJiAZVbBgzC"
      },
      "outputs": [],
      "source": [
        "# Image Preprocessing\n",
        "# https://www.geeksforgeeks.org/apply-changes-to-all-the-images-in-given-folder-using-python-pil/\n",
        "# https://opensource.com/life/15/2/resize-images-python\n",
        "\n",
        "# Code to apply operations on all the images\n",
        "# present in a folder one by one\n",
        "# operations such as rotating, cropping, \n",
        "from PIL import Image\n",
        "from PIL import ImageFilter\n",
        "import os"
      ]
    },
    {
      "cell_type": "code",
      "execution_count": null,
      "metadata": {
        "colab": {
          "base_uri": "https://localhost:8080/"
        },
        "id": "SZzfTcoDCplC",
        "outputId": "50003a2c-3661-4377-bca2-3195f2394920"
      },
      "outputs": [
        {
          "name": "stdout",
          "output_type": "stream",
          "text": [
            "For Test NORMAL:\n",
            "minwidth (984, '/content/drive/MyDrive/BMEN 415/Preliminary Project Submission/Data Samples/chest_xray (1)/test/NORMAL/NORMAL2-IM-0256-0001.jpeg')\n",
            "minheight (496, '/content/drive/MyDrive/BMEN 415/Preliminary Project Submission/Data Samples/chest_xray (1)/test/NORMAL/NORMAL2-IM-0256-0001.jpeg')\n"
          ]
        }
      ],
      "source": [
        "# Finding min width and height for Test NORMAL\n",
        "# https://askubuntu.com/questions/978529/find-the-lowest-height-and-lowest-width-among-all-images-in-a-directory\n",
        "\n",
        "# path of the folder containing the raw images\n",
        "datasetPath =\"/content/drive/MyDrive/BMEN 415/Preliminary Project Submission/Data Samples/chest_xray (1)/test/NORMAL\"\n",
        "\n",
        "minw, minh = 10000, 10000\n",
        "\n",
        "for image in os.listdir(datasetPath):\n",
        "    # imagePath contains name of the image \n",
        "    image_path = os.path.join(datasetPath, image)\n",
        "    # inputPath contains the full directory name\n",
        "    img = Image.open(image_path)\n",
        "    data = img.size\n",
        "    # if the width is lower than the last image, we have a new \"winner\"\n",
        "    w = data[0]\n",
        "    if w < minw:\n",
        "        newminw = w, image_path\n",
        "        minw = w\n",
        "    # if the height is lower than the last image, we have a new \"winner\"\n",
        "    h = data[1]\n",
        "    if h < minh:\n",
        "        newminh = h, image_path\n",
        "        minh = h\n",
        "\n",
        "# finally, print the values and corresponding files\n",
        "print(\"For Test NORMAL:\")\n",
        "print(\"minwidth\", newminw)\n",
        "print(\"minheight\", newminh)"
      ]
    },
    {
      "cell_type": "code",
      "execution_count": null,
      "metadata": {
        "colab": {
          "base_uri": "https://localhost:8080/"
        },
        "id": "zJkIhllDGbvc",
        "outputId": "1e04f588-d5e2-43d1-dcfd-cdadd5e41083"
      },
      "outputs": [
        {
          "name": "stdout",
          "output_type": "stream",
          "text": [
            "For Test PNEUMONIA: \n",
            "minwidth (728, '/content/drive/MyDrive/BMEN 415/Preliminary Project Submission/Data Samples/chest_xray (1)/test/PNEUMONIA/person78_bacteria_378.jpeg')\n",
            "minheight (344, '/content/drive/MyDrive/BMEN 415/Preliminary Project Submission/Data Samples/chest_xray (1)/test/PNEUMONIA/person81_bacteria_397.jpeg')\n"
          ]
        }
      ],
      "source": [
        "# Finding min width and height for Test PNEUMONIA\n",
        "# https://askubuntu.com/questions/978529/find-the-lowest-height-and-lowest-width-among-all-images-in-a-directory\n",
        "\n",
        "# path of the folder containing the raw images\n",
        "datasetPath =\"/content/drive/MyDrive/BMEN 415/Preliminary Project Submission/Data Samples/chest_xray (1)/test/PNEUMONIA\"\n",
        "\n",
        "minw, minh = 10000, 10000\n",
        "\n",
        "for image in os.listdir(datasetPath):\n",
        "    # imagePath contains name of the image \n",
        "    image_path = os.path.join(datasetPath, image)\n",
        "    # inputPath contains the full directory name\n",
        "    img = Image.open(image_path)\n",
        "    data = img.size\n",
        "    # if the width is lower than the last image, we have a new \"winner\"\n",
        "    w = data[0]\n",
        "    if w < minw:\n",
        "        newminw = w, image_path\n",
        "        minw = w\n",
        "    # if the height is lower than the last image, we have a new \"winner\"\n",
        "    h = data[1]\n",
        "    if h < minh:\n",
        "        newminh = h, image_path\n",
        "        minh = h\n",
        "\n",
        "# finally, print the values and corresponding files\n",
        "print(\"For Test PNEUMONIA: \")\n",
        "print(\"minwidth\", newminw)\n",
        "print(\"minheight\", newminh)"
      ]
    },
    {
      "cell_type": "code",
      "execution_count": null,
      "metadata": {
        "colab": {
          "base_uri": "https://localhost:8080/"
        },
        "id": "UpjZ63ApMlli",
        "outputId": "9380bf24-5c59-4151-bc77-74009f5b401d"
      },
      "outputs": [
        {
          "name": "stdout",
          "output_type": "stream",
          "text": [
            "For Train NORMAL: \n",
            "minwidth (912, '/content/drive/MyDrive/BMEN 415/Preliminary Project Submission/Data Samples/chest_xray (1)/train/NORMAL/NORMAL2-IM-1356-0001.jpeg')\n",
            "minheight (672, '/content/drive/MyDrive/BMEN 415/Preliminary Project Submission/Data Samples/chest_xray (1)/train/NORMAL/NORMAL2-IM-1356-0001.jpeg')\n"
          ]
        }
      ],
      "source": [
        "# Finding min width and height for Train NORMAL\n",
        "# https://askubuntu.com/questions/978529/find-the-lowest-height-and-lowest-width-among-all-images-in-a-directory\n",
        "\n",
        "# path of the folder containing the raw images\n",
        "datasetPath =\"/content/drive/MyDrive/BMEN 415/Preliminary Project Submission/Data Samples/chest_xray (1)/train/NORMAL\"\n",
        "\n",
        "minw, minh = 10000, 10000\n",
        "\n",
        "for image in os.listdir(datasetPath):\n",
        "    # imagePath contains name of the image \n",
        "    image_path = os.path.join(datasetPath, image)\n",
        "    # inputPath contains the full directory name\n",
        "    img = Image.open(image_path)\n",
        "    data = img.size\n",
        "    # if the width is lower than the last image, we have a new \"winner\"\n",
        "    w = data[0]\n",
        "    if w < minw:\n",
        "        newminw = w, image_path\n",
        "        minw = w\n",
        "    # if the height is lower than the last image, we have a new \"winner\"\n",
        "    h = data[1]\n",
        "    if h < minh:\n",
        "        newminh = h, image_path\n",
        "        minh = h\n",
        "\n",
        "# finally, print the values and corresponding files\n",
        "print(\"For Train NORMAL: \")\n",
        "print(\"minwidth\", newminw)\n",
        "print(\"minheight\", newminh)"
      ]
    },
    {
      "cell_type": "code",
      "execution_count": null,
      "metadata": {
        "colab": {
          "base_uri": "https://localhost:8080/"
        },
        "id": "UxW84i4CPwJK",
        "outputId": "90f89f8d-b59f-4333-ab21-195a312335d0"
      },
      "outputs": [
        {
          "name": "stdout",
          "output_type": "stream",
          "text": [
            "For Train PNEUMONIA: \n",
            "minwidth (384, '/content/drive/MyDrive/BMEN 415/Preliminary Project Submission/Data Samples/chest_xray (1)/train/PNEUMONIA/person407_virus_811.jpeg')\n",
            "minheight (127, '/content/drive/MyDrive/BMEN 415/Preliminary Project Submission/Data Samples/chest_xray (1)/train/PNEUMONIA/person407_virus_811.jpeg')\n"
          ]
        }
      ],
      "source": [
        "# Finding min width and height for Train PNEUMONIA\n",
        "# https://askubuntu.com/questions/978529/find-the-lowest-height-and-lowest-width-among-all-images-in-a-directory\n",
        "\n",
        "# path of the folder containing the raw images\n",
        "datasetPath =\"/content/drive/MyDrive/BMEN 415/Preliminary Project Submission/Data Samples/chest_xray (1)/train/PNEUMONIA\"\n",
        "\n",
        "minw, minh = 10000, 10000\n",
        "\n",
        "for image in os.listdir(datasetPath):\n",
        "    # imagePath contains name of the image \n",
        "    image_path = os.path.join(datasetPath, image)\n",
        "    # inputPath contains the full directory name\n",
        "    img = Image.open(image_path)\n",
        "    data = img.size\n",
        "    # if the width is lower than the last image, we have a new \"winner\"\n",
        "    w = data[0]\n",
        "    if w < minw:\n",
        "        newminw = w, image_path\n",
        "        minw = w\n",
        "    # if the height is lower than the last image, we have a new \"winner\"\n",
        "    h = data[1]\n",
        "    if h < minh:\n",
        "        newminh = h, image_path\n",
        "        minh = h\n",
        "\n",
        "# finally, print the values and corresponding files\n",
        "print(\"For Train PNEUMONIA: \")\n",
        "print(\"minwidth\", newminw)\n",
        "print(\"minheight\", newminh)"
      ]
    },
    {
      "cell_type": "code",
      "execution_count": null,
      "metadata": {
        "colab": {
          "base_uri": "https://localhost:8080/"
        },
        "id": "sDRW1FoYRa9Z",
        "outputId": "be6e9f68-5770-492c-dfb5-b01fa5d17222"
      },
      "outputs": [
        {
          "name": "stdout",
          "output_type": "stream",
          "text": [
            "For Val NORMAL: \n",
            "minwidth (1240, '/content/drive/MyDrive/BMEN 415/Preliminary Project Submission/Data Samples/chest_xray (1)/val/NORMAL/NORMAL2-IM-1437-0001.jpeg')\n",
            "minheight (928, '/content/drive/MyDrive/BMEN 415/Preliminary Project Submission/Data Samples/chest_xray (1)/val/NORMAL/NORMAL2-IM-1436-0001.jpeg')\n"
          ]
        }
      ],
      "source": [
        "# Finding min width and height for Val NORMAL\n",
        "# https://askubuntu.com/questions/978529/find-the-lowest-height-and-lowest-width-among-all-images-in-a-directory\n",
        "\n",
        "# path of the folder containing the raw images\n",
        "datasetPath =\"/content/drive/MyDrive/BMEN 415/Preliminary Project Submission/Data Samples/chest_xray (1)/val/NORMAL\"\n",
        "\n",
        "minw, minh = 10000, 10000\n",
        "\n",
        "for image in os.listdir(datasetPath):\n",
        "    # imagePath contains name of the image \n",
        "    image_path = os.path.join(datasetPath, image)\n",
        "    # inputPath contains the full directory name\n",
        "    img = Image.open(image_path)\n",
        "    data = img.size\n",
        "    # if the width is lower than the last image, we have a new \"winner\"\n",
        "    w = data[0]\n",
        "    if w < minw:\n",
        "        newminw = w, image_path\n",
        "        minw = w\n",
        "    # if the height is lower than the last image, we have a new \"winner\"\n",
        "    h = data[1]\n",
        "    if h < minh:\n",
        "        newminh = h, image_path\n",
        "        minh = h\n",
        "\n",
        "# finally, print the values and corresponding files\n",
        "print(\"For Val NORMAL: \")\n",
        "print(\"minwidth\", newminw)\n",
        "print(\"minheight\", newminh)"
      ]
    },
    {
      "cell_type": "code",
      "execution_count": null,
      "metadata": {
        "colab": {
          "base_uri": "https://localhost:8080/"
        },
        "id": "juvUuUWAQ8KT",
        "outputId": "0466a28f-b333-4806-dafb-e9a697c2fea5"
      },
      "outputs": [
        {
          "name": "stdout",
          "output_type": "stream",
          "text": [
            "For Val PNEUMONIA: \n",
            "minwidth (968, '/content/drive/MyDrive/BMEN 415/Preliminary Project Submission/Data Samples/chest_xray (1)/val/PNEUMONIA/person1946_bacteria_4874.jpeg')\n",
            "minheight (592, '/content/drive/MyDrive/BMEN 415/Preliminary Project Submission/Data Samples/chest_xray (1)/val/PNEUMONIA/person1946_bacteria_4874.jpeg')\n"
          ]
        }
      ],
      "source": [
        "# Finding min width and height for Val PNEUMONIA\n",
        "# https://askubuntu.com/questions/978529/find-the-lowest-height-and-lowest-width-among-all-images-in-a-directory\n",
        "\n",
        "# path of the folder containing the raw images\n",
        "datasetPath =\"/content/drive/MyDrive/BMEN 415/Preliminary Project Submission/Data Samples/chest_xray (1)/val/PNEUMONIA\"\n",
        "\n",
        "minw, minh = 10000, 10000\n",
        "\n",
        "for image in os.listdir(datasetPath):\n",
        "    # imagePath contains name of the image \n",
        "    image_path = os.path.join(datasetPath, image)\n",
        "    # inputPath contains the full directory name\n",
        "    img = Image.open(image_path)\n",
        "    data = img.size\n",
        "    # if the width is lower than the last image, we have a new \"winner\"\n",
        "    w = data[0]\n",
        "    if w < minw:\n",
        "        newminw = w, image_path\n",
        "        minw = w\n",
        "    # if the height is lower than the last image, we have a new \"winner\"\n",
        "    h = data[1]\n",
        "    if h < minh:\n",
        "        newminh = h, image_path\n",
        "        minh = h\n",
        "\n",
        "# finally, print the values and corresponding files\n",
        "print(\"For Val PNEUMONIA: \")\n",
        "print(\"minwidth\", newminw)\n",
        "print(\"minheight\", newminh)"
      ]
    },
    {
      "cell_type": "markdown",
      "metadata": {
        "id": "dTFGA5CpO3kv"
      },
      "source": [
        "# Preprocessing Test Data"
      ]
    },
    {
      "cell_type": "code",
      "execution_count": null,
      "metadata": {
        "id": "mGCW96g7Gvsp"
      },
      "outputs": [],
      "source": [
        "# !!!!!!!!!!!!!!!DO NOT RE RUN THIS CELL, THE IMAGES HAVE ALREADY BEEN PROCESSED!!!!!!!!!!!!!!!!!!!!!!!!!!!!!!!!!\n",
        "# Resizing TEST NORMAL images\n",
        "# https://auth0.com/blog/image-processing-in-python-with-pillow/\n",
        "# https://www.geeksforgeeks.org/apply-changes-to-all-the-images-in-given-folder-using-python-pil/\n",
        "\n",
        "from PIL import Image\n",
        "from PIL import ImageFilter\n",
        "import os\n",
        "\n",
        "# path of the folder containing the raw images\n",
        "inPath =\"/content/drive/MyDrive/BMEN 415/Preliminary Project Submission/Data Samples/chest_xray (1)/test/NORMAL\"\n",
        "\n",
        "# path of the folder that will contain the modified image\n",
        "outPath =\"/content/drive/MyDrive/BMEN 415/Preliminary Project Submission/Data Samples/Processed Images/test/NORMAL\"\n",
        "\n",
        "for imagePath in os.listdir(inPath):\n",
        "    # imagePath contains name of the image \n",
        "    inputPath = os.path.join(inPath, imagePath)\n",
        "\n",
        "    # inputPath contains the full directory name\n",
        "    img = Image.open(inputPath)\n",
        "\n",
        "    fullOutPath = os.path.join(outPath, 'processed'+imagePath)\n",
        "    # fullOutPath contains the path of the output\n",
        "    # image that needs to be generated\n",
        "    img.resize((984, 496)).save(fullOutPath)\n",
        "    # print(fullOutPath)"
      ]
    },
    {
      "cell_type": "code",
      "execution_count": null,
      "metadata": {
        "id": "JvEeTjyMGwB7"
      },
      "outputs": [],
      "source": [
        "# !!!!!!!!!!!!!!!DO NOT RE RUN THIS CELL, THE IMAGES HAVE ALREADY BEEN PROCESSED!!!!!!!!!!!!!!!!!!!!!!!!!!!!!!!!!\n",
        "# Resizing TEST NORMAL images\n",
        "# https://auth0.com/blog/image-processing-in-python-with-pillow/\n",
        "# https://www.geeksforgeeks.org/apply-changes-to-all-the-images-in-given-folder-using-python-pil/\n",
        "\n",
        "from PIL import Image\n",
        "from PIL import ImageFilter\n",
        "import os\n",
        "\n",
        "# path of the folder containing the raw images\n",
        "inPath =\"/content/drive/MyDrive/BMEN 415/Preliminary Project Submission/Data Samples/chest_xray (1)/test/PNEUMONIA\"\n",
        "\n",
        "# path of the folder that will contain the modified image\n",
        "outPath =\"/content/drive/MyDrive/BMEN 415/Preliminary Project Submission/Data Samples/Processed Images/test/PNEUMONIA\"\n",
        "\n",
        "for imagePath in os.listdir(inPath):\n",
        "    # imagePath contains name of the image \n",
        "    inputPath = os.path.join(inPath, imagePath)\n",
        "\n",
        "    # inputPath contains the full directory name\n",
        "    img = Image.open(inputPath)\n",
        "\n",
        "    fullOutPath = os.path.join(outPath, 'processed'+imagePath)\n",
        "    # fullOutPath contains the path of the output\n",
        "    # image that needs to be generated\n",
        "    img.resize((728, 344)).save(fullOutPath) \n",
        "    # print(fullOutPath)"
      ]
    },
    {
      "cell_type": "markdown",
      "metadata": {
        "id": "k3WTlffYMrug"
      },
      "source": [
        "# Preprocessing Train Data"
      ]
    },
    {
      "cell_type": "code",
      "execution_count": null,
      "metadata": {
        "id": "ZGoYt6BdlJ4s"
      },
      "outputs": [],
      "source": [
        "# !!!!!!!!!!!!!!!DO NOT RE RUN THIS CELL, THE IMAGES HAVE ALREADY BEEN PROCESSED!!!!!!!!!!!!!!!!!!!!!!!!!!!!!!!!!\n",
        "# Resizing Train NORMAL images\n",
        "# https://auth0.com/blog/image-processing-in-python-with-pillow/\n",
        "# https://www.geeksforgeeks.org/apply-changes-to-all-the-images-in-given-folder-using-python-pil/\n",
        "\n",
        "from PIL import Image\n",
        "from PIL import ImageFilter\n",
        "import os\n",
        "\n",
        "# path of the folder containing the raw images\n",
        "inPath =\"/content/drive/MyDrive/BMEN 415/Preliminary Project Submission/Data Samples/chest_xray (1)/train/NORMAL\"\n",
        "\n",
        "# path of the folder that will contain the modified image\n",
        "outPath =\"/content/drive/MyDrive/BMEN 415/Preliminary Project Submission/Data Samples/Processed Images/train/NORMAL\"\n",
        "\n",
        "for imagePath in os.listdir(inPath):\n",
        "    # imagePath contains name of the image \n",
        "    inputPath = os.path.join(inPath, imagePath)\n",
        "\n",
        "    # inputPath contains the full directory name\n",
        "    img = Image.open(inputPath)\n",
        "\n",
        "    fullOutPath = os.path.join(outPath, 'processed'+imagePath)\n",
        "    # fullOutPath contains the path of the output\n",
        "    # image that needs to be generated\n",
        "    img.resize((912, 672)).save(fullOutPath) \n",
        "    # print(fullOutPath)"
      ]
    },
    {
      "cell_type": "code",
      "execution_count": null,
      "metadata": {
        "id": "2D7c86ievNm1"
      },
      "outputs": [],
      "source": [
        "# !!!!!!!!!!!!!!!DO NOT RE RUN THIS CELL, THE IMAGES HAVE ALREADY BEEN PROCESSED!!!!!!!!!!!!!!!!!!!!!!!!!!!!!!!!!\n",
        "# Resizing Train PNEUMONIA images\n",
        "# https://auth0.com/blog/image-processing-in-python-with-pillow/\n",
        "# https://www.geeksforgeeks.org/apply-changes-to-all-the-images-in-given-folder-using-python-pil/\n",
        "\n",
        "from PIL import Image\n",
        "from PIL import ImageFilter\n",
        "import os\n",
        "\n",
        "# path of the folder containing the raw images\n",
        "inPath =\"/content/drive/MyDrive/BMEN 415/Preliminary Project Submission/Data Samples/chest_xray (1)/train/PNEUMONIA\"\n",
        "\n",
        "# path of the folder that will contain the modified image\n",
        "outPath =\"/content/drive/MyDrive/BMEN 415/Preliminary Project Submission/Data Samples/Processed Images/train/PNEUMONIA\"\n",
        "\n",
        "for imagePath in os.listdir(inPath):\n",
        "    # imagePath contains name of the image \n",
        "    inputPath = os.path.join(inPath, imagePath)\n",
        "\n",
        "    # inputPath contains the full directory name\n",
        "    img = Image.open(inputPath)\n",
        "\n",
        "    fullOutPath = os.path.join(outPath, 'processed'+imagePath)\n",
        "    # fullOutPath contains the path of the output\n",
        "    # image that needs to be generated\n",
        "    img.resize((384, 127)).save(fullOutPath) \n",
        "    # print(fullOutPath)"
      ]
    },
    {
      "cell_type": "markdown",
      "metadata": {
        "id": "Iq1QiezsT_D7"
      },
      "source": [
        "# Preprocessing Val Data"
      ]
    },
    {
      "cell_type": "code",
      "execution_count": null,
      "metadata": {
        "id": "pLPUAynStsLy"
      },
      "outputs": [],
      "source": [
        "# !!!!!!!!!!!!!!!DO NOT RE RUN THIS CELL, THE IMAGES HAVE ALREADY BEEN PROCESSED!!!!!!!!!!!!!!!!!!!!!!!!!!!!!!!!!\n",
        "# Resizing Val NORMAL images\n",
        "# https://auth0.com/blog/image-processing-in-python-with-pillow/\n",
        "# https://www.geeksforgeeks.org/apply-changes-to-all-the-images-in-given-folder-using-python-pil/\n",
        "\n",
        "from PIL import Image\n",
        "from PIL import ImageFilter\n",
        "import os\n",
        "\n",
        "# path of the folder containing the raw images\n",
        "inPath =\"/content/drive/MyDrive/BMEN 415/Preliminary Project Submission/Data Samples/chest_xray (1)/val/NORMAL\"\n",
        "\n",
        "# path of the folder that will contain the modified image\n",
        "outPath =\"/content/drive/MyDrive/BMEN 415/Preliminary Project Submission/Data Samples/Processed Images/val/NORMAL\"\n",
        "\n",
        "for imagePath in os.listdir(inPath):\n",
        "    # imagePath contains name of the image \n",
        "    inputPath = os.path.join(inPath, imagePath)\n",
        "\n",
        "    # inputPath contains the full directory name\n",
        "    img = Image.open(inputPath)\n",
        "\n",
        "    fullOutPath = os.path.join(outPath, 'processed'+imagePath)\n",
        "    # fullOutPath contains the path of the output\n",
        "    # image that needs to be generated\n",
        "    img.resize((1240, 928)).save(fullOutPath) \n",
        "    # print(fullOutPath)"
      ]
    },
    {
      "cell_type": "code",
      "execution_count": null,
      "metadata": {
        "id": "XHu9c3ubULQE"
      },
      "outputs": [],
      "source": [
        "# !!!!!!!!!!!!!!!DO NOT RE RUN THIS CELL, THE IMAGES HAVE ALREADY BEEN PROCESSED!!!!!!!!!!!!!!!!!!!!!!!!!!!!!!!!!\n",
        "# Resizing Val PNEUMONIA images\n",
        "# https://auth0.com/blog/image-processing-in-python-with-pillow/\n",
        "# https://www.geeksforgeeks.org/apply-changes-to-all-the-images-in-given-folder-using-python-pil/\n",
        "\n",
        "from PIL import Image\n",
        "from PIL import ImageFilter\n",
        "import os\n",
        "\n",
        "# path of the folder containing the raw images\n",
        "inPath =\"/content/drive/MyDrive/BMEN 415/Preliminary Project Submission/Data Samples/chest_xray (1)/val/PNEUMONIA\"\n",
        "\n",
        "# path of the folder that will contain the modified image\n",
        "outPath =\"/content/drive/MyDrive/BMEN 415/Preliminary Project Submission/Data Samples/Processed Images/val/PNEUMONIA\"\n",
        "\n",
        "for imagePath in os.listdir(inPath):\n",
        "    # imagePath contains name of the image \n",
        "    inputPath = os.path.join(inPath, imagePath)\n",
        "\n",
        "    # inputPath contains the full directory name\n",
        "    img = Image.open(inputPath)\n",
        "\n",
        "    fullOutPath = os.path.join(outPath, 'processed'+imagePath)\n",
        "    # fullOutPath contains the path of the output\n",
        "    # image that needs to be generated\n",
        "    img.resize((968, 592)).save(fullOutPath) \n",
        "    # print(fullOutPath)"
      ]
    }
  ],
  "metadata": {
    "colab": {
      "collapsed_sections": [],
      "name": "Image_Preprocessing_Code.ipynb",
      "provenance": []
    },
    "kernelspec": {
      "display_name": "Python 3",
      "name": "python3"
    },
    "language_info": {
      "name": "python"
    }
  },
  "nbformat": 4,
  "nbformat_minor": 0
}
