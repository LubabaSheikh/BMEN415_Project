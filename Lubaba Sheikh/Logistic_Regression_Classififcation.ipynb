{
 "cells": [
  {
   "cell_type": "code",
   "execution_count": 43,
   "id": "ca68437e",
   "metadata": {},
   "outputs": [],
   "source": [
    "# https://www.bmc.com/blogs/keras-neural-network-classification/\n",
    "import tensorflow as tf\n",
    "from keras.models import Sequential\n",
    "import pandas as pd\n",
    "from keras.layers import Dense\n",
    "# Loading data\n",
    "data = pd.read_csv('Group16_ClassificationData.csv', delimiter=',')"
   ]
  },
  {
   "cell_type": "code",
   "execution_count": 44,
   "id": "c4a5ddd7",
   "metadata": {},
   "outputs": [
    {
     "data": {
      "text/plain": [
       "<AxesSubplot:>"
      ]
     },
     "execution_count": 44,
     "metadata": {},
     "output_type": "execute_result"
    },
    {
     "data": {
      "image/png": "[encoded data removed]",
      "text/plain": [
       "<Figure size 432x288 with 2 Axes>"
      ]
     },
     "metadata": {
      "needs_background": "light"
     },
     "output_type": "display_data"
    }
   ],
   "source": [
    "# Check Correlation between varibales using heat map\n",
    "import seaborn as sns\n",
    "import matplotlib as plt\n",
    "corr = data.corr()\n",
    "sns.heatmap(corr, \n",
    "xticklabels=corr.columns.values,\n",
    "yticklabels=corr.columns.values)"
   ]
  },
  {
   "cell_type": "code",
   "execution_count": 45,
   "id": "ce256148",
   "metadata": {},
   "outputs": [
    {
     "name": "stdout",
     "output_type": "stream",
     "text": [
      "<class 'pandas.core.frame.DataFrame'>\n",
      "RangeIndex: 768 entries, 0 to 767\n",
      "Data columns (total 8 columns):\n",
      " #   Column                    Non-Null Count  Dtype  \n",
      "---  ------                    --------------  -----  \n",
      " 0   Pregnancies               768 non-null    int64  \n",
      " 1   Glucose                   768 non-null    int64  \n",
      " 2   BloodPressure             768 non-null    int64  \n",
      " 3   SkinThickness             768 non-null    int64  \n",
      " 4   Insulin                   768 non-null    int64  \n",
      " 5   BMI                       768 non-null    float64\n",
      " 6   DiabetesPedigreeFunction  768 non-null    float64\n",
      " 7   Age                       768 non-null    int64  \n",
      "dtypes: float64(2), int64(6)\n",
      "memory usage: 48.1 KB\n"
     ]
    }
   ],
   "source": [
    "# Prepare the test and training data sets\n",
    "from sklearn.model_selection import train_test_split\n",
    "y = data.Outcome\n",
    "X = data.drop([\"Outcome\"], axis=1) \n",
    "X.info()\n",
    "\n",
    "X_train, X_test, y_train, y_test = train_test_split(X, y, test_size=0.20, random_state=42) # 20% of data for test"
   ]
  },
  {
   "cell_type": "code",
   "execution_count": 46,
   "id": "c9b4d5a4",
   "metadata": {},
   "outputs": [],
   "source": [
    "# Normalizing values\n",
    "from sklearn.preprocessing import StandardScaler\n",
    "scaler = StandardScaler().fit(X_train)\n",
    "X_train = scaler.transform(X_train)\n",
    "X_test = scaler.transform(X_test)  "
   ]
  },
  {
   "cell_type": "code",
   "execution_count": 47,
   "id": "94ed9192",
   "metadata": {},
   "outputs": [],
   "source": [
    "# Activation function\n",
    "from keras.models import Sequential\n",
    "from keras.layers import Dense\n",
    "model = Sequential()\n",
    "model.add(Dense(8, activation='relu', input_shape=(8,))) # It’s (8,) since it’s a vector of 8 features. In other words its 8 x 1.\n",
    "model.add(Dense(8, activation='relu'))\n",
    "model.add(Dense(1, activation='sigmoid'))"
   ]
  },
  {
   "cell_type": "code",
   "execution_count": 48,
   "id": "df8fd4dd",
   "metadata": {},
   "outputs": [
    {
     "name": "stdout",
     "output_type": "stream",
     "text": [
      "Epoch 1/20\n",
      "614/614 [==============================] - 1s 1ms/step - loss: 0.6344 - accuracy: 0.6775\n",
      "Epoch 2/20\n",
      "614/614 [==============================] - 1s 1ms/step - loss: 0.5324 - accuracy: 0.7410\n",
      "Epoch 3/20\n",
      "614/614 [==============================] - 1s 1ms/step - loss: 0.4901 - accuracy: 0.7704\n",
      "Epoch 4/20\n",
      "614/614 [==============================] - 1s 1ms/step - loss: 0.4788 - accuracy: 0.7590\n",
      "Epoch 5/20\n",
      "614/614 [==============================] - 1s 1ms/step - loss: 0.4752 - accuracy: 0.7606\n",
      "Epoch 6/20\n",
      "614/614 [==============================] - 1s 1ms/step - loss: 0.4657 - accuracy: 0.7687\n",
      "Epoch 7/20\n",
      "614/614 [==============================] - 1s 1ms/step - loss: 0.4644 - accuracy: 0.7704\n",
      "Epoch 8/20\n",
      "614/614 [==============================] - 1s 1ms/step - loss: 0.4565 - accuracy: 0.7720\n",
      "Epoch 9/20\n",
      "614/614 [==============================] - 1s 1ms/step - loss: 0.4565 - accuracy: 0.7720\n",
      "Epoch 10/20\n",
      "614/614 [==============================] - 1s 1ms/step - loss: 0.4524 - accuracy: 0.7671\n",
      "Epoch 11/20\n",
      "614/614 [==============================] - 1s 1ms/step - loss: 0.4493 - accuracy: 0.7850\n",
      "Epoch 12/20\n",
      "614/614 [==============================] - 1s 1ms/step - loss: 0.4478 - accuracy: 0.7769\n",
      "Epoch 13/20\n",
      "614/614 [==============================] - 1s 1ms/step - loss: 0.4441 - accuracy: 0.7801\n",
      "Epoch 14/20\n",
      "614/614 [==============================] - 1s 1ms/step - loss: 0.4413 - accuracy: 0.7834\n",
      "Epoch 15/20\n",
      "614/614 [==============================] - 1s 1ms/step - loss: 0.4410 - accuracy: 0.7752\n",
      "Epoch 16/20\n",
      "614/614 [==============================] - 1s 1ms/step - loss: 0.4362 - accuracy: 0.7801\n",
      "Epoch 17/20\n",
      "614/614 [==============================] - 1s 1ms/step - loss: 0.4379 - accuracy: 0.7769\n",
      "Epoch 18/20\n",
      "614/614 [==============================] - 1s 1ms/step - loss: 0.4347 - accuracy: 0.7866\n",
      "Epoch 19/20\n",
      "614/614 [==============================] - 1s 1ms/step - loss: 0.4293 - accuracy: 0.7834\n",
      "Epoch 20/20\n",
      "614/614 [==============================] - 1s 1ms/step - loss: 0.4302 - accuracy: 0.7834\n"
     ]
    },
    {
     "data": {
      "text/plain": [
       "<keras.callbacks.History at 0x1a146055130>"
      ]
     },
     "execution_count": 48,
     "metadata": {},
     "output_type": "execute_result"
    }
   ],
   "source": [
    "# Binary crosscentropy since because out output is 1 or 0\n",
    "model.compile(loss='binary_crossentropy',\n",
    "optimizer='sgd',\n",
    "metrics=['accuracy'])\n",
    "model.fit(X_train, y_train,epochs=20, batch_size=1, verbose=1)"
   ]
  },
  {
   "cell_type": "code",
   "execution_count": 49,
   "id": "6e5a37b8",
   "metadata": {},
   "outputs": [],
   "source": [
    "# Printing the weights for each layer\n",
    "# for layer in model.layers:\n",
    "#     weights = layer.get_weights()\n",
    "# print(weights)"
   ]
  },
  {
   "cell_type": "code",
   "execution_count": 50,
   "id": "292924e7",
   "metadata": {},
   "outputs": [
    {
     "name": "stdout",
     "output_type": "stream",
     "text": [
      "Train Accuracy:  0.7899022801302932\n",
      "Test Accuracy:  0.7597402597402597\n"
     ]
    }
   ],
   "source": [
    "from sklearn import metrics\n",
    "# Now run predictions\n",
    "y_pred_train = model.predict(X_train)\n",
    "y_pred_test = model.predict(X_test)\n",
    "\n",
    "# Print score/accuracy\n",
    "train_accuracy = accuracy_score(y_train.round(), y_pred_train.round())\n",
    "test_accuracy = metrics.accuracy_score(y_test.round(), y_pred_test.round())\n",
    "print(\"Train Accuracy: \", train_accuracy)\n",
    "print(\"Test Accuracy: \", test_accuracy)"
   ]
  },
  {
   "cell_type": "code",
   "execution_count": 51,
   "id": "4cf26b3f",
   "metadata": {},
   "outputs": [],
   "source": [
    "# Print score/accuracy\n",
    "# score = model.evaluate(X_test, y_test,verbose=1)\n",
    "# print(score)"
   ]
  },
  {
   "cell_type": "code",
   "execution_count": 52,
   "id": "ef674aee",
   "metadata": {},
   "outputs": [
    {
     "data": {
      "image/png": "[encoded data removed]",
      "text/plain": [
       "<Figure size 504x360 with 2 Axes>"
      ]
     },
     "metadata": {
      "needs_background": "light"
     },
     "output_type": "display_data"
    }
   ],
   "source": [
    "# Print Confusion Matrix\n",
    "import matplotlib.pyplot as plt\n",
    "from sklearn.metrics import classification_report, confusion_matrix\n",
    "import seaborn as sns\n",
    "plt.figure(figsize = (7,5))\n",
    "sns.set(font_scale=3.0)\n",
    "dataplot = sns.heatmap(confusion_matrix(y_test, y_pred_test.round())/100,annot=True, fmt='.2f', cmap='RdYlGn')"
   ]
  }
 ],
 "metadata": {
  "kernelspec": {
   "display_name": "Python 3 (ipykernel)",
   "language": "python",
   "name": "python3"
  },
  "language_info": {
   "codemirror_mode": {
    "name": "ipython",
    "version": 3
   },
   "file_extension": ".py",
   "mimetype": "text/x-python",
   "name": "python",
   "nbconvert_exporter": "python",
   "pygments_lexer": "ipython3",
   "version": "3.9.7"
  }
 },
 "nbformat": 4,
 "nbformat_minor": 5
}
