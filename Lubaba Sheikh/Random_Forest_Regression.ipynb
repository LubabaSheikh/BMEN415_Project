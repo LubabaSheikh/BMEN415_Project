{
 "cells": [
  {
   "cell_type": "markdown",
   "id": "8e0fb770",
   "metadata": {},
   "source": [
    "# Random Forest Regression"
   ]
  },
  {
   "cell_type": "code",
   "execution_count": 1,
   "id": "4b9008b9",
   "metadata": {},
   "outputs": [
    {
     "data": {
      "text/html": [
       "<div>\n",
       "<style scoped>\n",
       "    .dataframe tbody tr th:only-of-type {\n",
       "        vertical-align: middle;\n",
       "    }\n",
       "\n",
       "    .dataframe tbody tr th {\n",
       "        vertical-align: top;\n",
       "    }\n",
       "\n",
       "    .dataframe thead th {\n",
       "        text-align: right;\n",
       "    }\n",
       "</style>\n",
       "<table border=\"1\" class=\"dataframe\">\n",
       "  <thead>\n",
       "    <tr style=\"text-align: right;\">\n",
       "      <th></th>\n",
       "      <th>S.No</th>\n",
       "      <th>Left-Lateral-Ventricle</th>\n",
       "      <th>Left-Inf-Lat-Vent</th>\n",
       "      <th>Left-Cerebellum-White-Matter</th>\n",
       "      <th>Left-Cerebellum-Cortex</th>\n",
       "      <th>Left-Thalamus</th>\n",
       "      <th>Left-Caudate</th>\n",
       "      <th>Left-Putamen</th>\n",
       "      <th>Left-Pallidum</th>\n",
       "      <th>3rd-Ventricle</th>\n",
       "      <th>...</th>\n",
       "      <th>rh_supramarginal_thickness</th>\n",
       "      <th>rh_frontalpole_thickness</th>\n",
       "      <th>rh_temporalpole_thickness</th>\n",
       "      <th>rh_transversetemporal_thickness</th>\n",
       "      <th>rh_insula_thickness</th>\n",
       "      <th>rh_MeanThickness_thickness</th>\n",
       "      <th>BrainSegVolNotVent.2</th>\n",
       "      <th>eTIV.1</th>\n",
       "      <th>Age</th>\n",
       "      <th>dataset</th>\n",
       "    </tr>\n",
       "  </thead>\n",
       "  <tbody>\n",
       "    <tr>\n",
       "      <th>0</th>\n",
       "      <td>1</td>\n",
       "      <td>22916.9</td>\n",
       "      <td>982.7</td>\n",
       "      <td>15196.7</td>\n",
       "      <td>55796.4</td>\n",
       "      <td>6855.5</td>\n",
       "      <td>2956.4</td>\n",
       "      <td>4240.7</td>\n",
       "      <td>2223.9</td>\n",
       "      <td>2034.4</td>\n",
       "      <td>...</td>\n",
       "      <td>2.408</td>\n",
       "      <td>2.629</td>\n",
       "      <td>3.519</td>\n",
       "      <td>2.009</td>\n",
       "      <td>2.825</td>\n",
       "      <td>2.33635</td>\n",
       "      <td>1093846</td>\n",
       "      <td>1619602.965</td>\n",
       "      <td>85</td>\n",
       "      <td>1</td>\n",
       "    </tr>\n",
       "    <tr>\n",
       "      <th>1</th>\n",
       "      <td>2</td>\n",
       "      <td>22953.2</td>\n",
       "      <td>984.5</td>\n",
       "      <td>15289.7</td>\n",
       "      <td>55778.6</td>\n",
       "      <td>6835.1</td>\n",
       "      <td>3064.2</td>\n",
       "      <td>4498.6</td>\n",
       "      <td>2354.1</td>\n",
       "      <td>1927.1</td>\n",
       "      <td>...</td>\n",
       "      <td>2.417</td>\n",
       "      <td>2.640</td>\n",
       "      <td>3.488</td>\n",
       "      <td>2.111</td>\n",
       "      <td>2.720</td>\n",
       "      <td>2.34202</td>\n",
       "      <td>1099876</td>\n",
       "      <td>1624755.130</td>\n",
       "      <td>85</td>\n",
       "      <td>1</td>\n",
       "    </tr>\n",
       "    <tr>\n",
       "      <th>2</th>\n",
       "      <td>3</td>\n",
       "      <td>23320.4</td>\n",
       "      <td>1062.1</td>\n",
       "      <td>15382.1</td>\n",
       "      <td>55551.2</td>\n",
       "      <td>7566.0</td>\n",
       "      <td>3231.7</td>\n",
       "      <td>4456.2</td>\n",
       "      <td>1995.4</td>\n",
       "      <td>2064.7</td>\n",
       "      <td>...</td>\n",
       "      <td>2.374</td>\n",
       "      <td>2.601</td>\n",
       "      <td>3.342</td>\n",
       "      <td>2.146</td>\n",
       "      <td>2.684</td>\n",
       "      <td>2.31982</td>\n",
       "      <td>1097999</td>\n",
       "      <td>1622609.518</td>\n",
       "      <td>86</td>\n",
       "      <td>1</td>\n",
       "    </tr>\n",
       "    <tr>\n",
       "      <th>3</th>\n",
       "      <td>4</td>\n",
       "      <td>24360.0</td>\n",
       "      <td>1000.5</td>\n",
       "      <td>14805.4</td>\n",
       "      <td>54041.8</td>\n",
       "      <td>8004.6</td>\n",
       "      <td>3137.3</td>\n",
       "      <td>4262.2</td>\n",
       "      <td>1983.4</td>\n",
       "      <td>2017.7</td>\n",
       "      <td>...</td>\n",
       "      <td>2.366</td>\n",
       "      <td>2.639</td>\n",
       "      <td>3.361</td>\n",
       "      <td>2.056</td>\n",
       "      <td>2.700</td>\n",
       "      <td>2.29215</td>\n",
       "      <td>1070117</td>\n",
       "      <td>1583854.236</td>\n",
       "      <td>87</td>\n",
       "      <td>1</td>\n",
       "    </tr>\n",
       "    <tr>\n",
       "      <th>4</th>\n",
       "      <td>5</td>\n",
       "      <td>25769.4</td>\n",
       "      <td>1124.4</td>\n",
       "      <td>16331.1</td>\n",
       "      <td>54108.6</td>\n",
       "      <td>6677.4</td>\n",
       "      <td>2964.4</td>\n",
       "      <td>4204.6</td>\n",
       "      <td>2409.7</td>\n",
       "      <td>2251.8</td>\n",
       "      <td>...</td>\n",
       "      <td>2.381</td>\n",
       "      <td>2.555</td>\n",
       "      <td>3.450</td>\n",
       "      <td>2.052</td>\n",
       "      <td>2.574</td>\n",
       "      <td>2.30397</td>\n",
       "      <td>1075926</td>\n",
       "      <td>1617375.362</td>\n",
       "      <td>89</td>\n",
       "      <td>1</td>\n",
       "    </tr>\n",
       "  </tbody>\n",
       "</table>\n",
       "<p>5 rows × 141 columns</p>\n",
       "</div>"
      ],
      "text/plain": [
       "   S.No  Left-Lateral-Ventricle  Left-Inf-Lat-Vent  \\\n",
       "0     1                 22916.9              982.7   \n",
       "1     2                 22953.2              984.5   \n",
       "2     3                 23320.4             1062.1   \n",
       "3     4                 24360.0             1000.5   \n",
       "4     5                 25769.4             1124.4   \n",
       "\n",
       "   Left-Cerebellum-White-Matter  Left-Cerebellum-Cortex  Left-Thalamus  \\\n",
       "0                       15196.7                 55796.4         6855.5   \n",
       "1                       15289.7                 55778.6         6835.1   \n",
       "2                       15382.1                 55551.2         7566.0   \n",
       "3                       14805.4                 54041.8         8004.6   \n",
       "4                       16331.1                 54108.6         6677.4   \n",
       "\n",
       "   Left-Caudate  Left-Putamen  Left-Pallidum  3rd-Ventricle  ...  \\\n",
       "0        2956.4        4240.7         2223.9         2034.4  ...   \n",
       "1        3064.2        4498.6         2354.1         1927.1  ...   \n",
       "2        3231.7        4456.2         1995.4         2064.7  ...   \n",
       "3        3137.3        4262.2         1983.4         2017.7  ...   \n",
       "4        2964.4        4204.6         2409.7         2251.8  ...   \n",
       "\n",
       "   rh_supramarginal_thickness  rh_frontalpole_thickness  \\\n",
       "0                       2.408                     2.629   \n",
       "1                       2.417                     2.640   \n",
       "2                       2.374                     2.601   \n",
       "3                       2.366                     2.639   \n",
       "4                       2.381                     2.555   \n",
       "\n",
       "   rh_temporalpole_thickness  rh_transversetemporal_thickness  \\\n",
       "0                      3.519                            2.009   \n",
       "1                      3.488                            2.111   \n",
       "2                      3.342                            2.146   \n",
       "3                      3.361                            2.056   \n",
       "4                      3.450                            2.052   \n",
       "\n",
       "   rh_insula_thickness  rh_MeanThickness_thickness  BrainSegVolNotVent.2  \\\n",
       "0                2.825                     2.33635               1093846   \n",
       "1                2.720                     2.34202               1099876   \n",
       "2                2.684                     2.31982               1097999   \n",
       "3                2.700                     2.29215               1070117   \n",
       "4                2.574                     2.30397               1075926   \n",
       "\n",
       "        eTIV.1  Age  dataset  \n",
       "0  1619602.965   85        1  \n",
       "1  1624755.130   85        1  \n",
       "2  1622609.518   86        1  \n",
       "3  1583854.236   87        1  \n",
       "4  1617375.362   89        1  \n",
       "\n",
       "[5 rows x 141 columns]"
      ]
     },
     "execution_count": 1,
     "metadata": {},
     "output_type": "execute_result"
    }
   ],
   "source": [
    "# https://medium.com/swlh/random-forest-and-its-implementation-71824ced454f\n",
    "# Importing libraries and data\n",
    "import pandas as pd\n",
    "import numpy as np\n",
    "import matplotlib.pyplot as plt\n",
    "data = pd.read_csv('Volumetric_features.csv')\n",
    "data.head()"
   ]
  },
  {
   "cell_type": "code",
   "execution_count": 2,
   "id": "fafacb80",
   "metadata": {},
   "outputs": [
    {
     "name": "stdout",
     "output_type": "stream",
     "text": [
      "<class 'pandas.core.frame.DataFrame'>\n",
      "RangeIndex: 4226 entries, 0 to 4225\n",
      "Columns: 135 entries, S.No to eTIV.1\n",
      "dtypes: float64(122), int64(13)\n",
      "memory usage: 4.4 MB\n"
     ]
    }
   ],
   "source": [
    "# Import train_test_split function\n",
    "from sklearn.model_selection import train_test_split\n",
    "import numpy as np\n",
    "\n",
    "# Preprocessing data\n",
    "y = data.Age\n",
    "X = data.drop([\"dataset\"], axis=1) \n",
    "X = X.drop([\"Age\"], axis=1) \n",
    "X = X.drop([\"Left-WM-hypointensities\"], axis=1) \n",
    "X = X.drop([\"Right-WM-hypointensities\"], axis=1) \n",
    "X = X.drop([\"Left-non-WM-hypointensities\"], axis=1) \n",
    "X = X.drop([\"Right-non-WM-hypointensities\"], axis=1)\n",
    "X.info()\n",
    "\n",
    "# Splitting data\n",
    "X_train, X_test, y_train, y_test = train_test_split(X, y, test_size=0.20) # 80% training and 20% test"
   ]
  },
  {
   "cell_type": "code",
   "execution_count": 3,
   "id": "bd59a013",
   "metadata": {},
   "outputs": [],
   "source": [
    "# Normalize the data\n",
    "from sklearn.preprocessing import StandardScaler\n",
    "sc_X = StandardScaler() # arrange data into standard normal distribution (mean = 0, unit variance) -- improves accuracy\n",
    "X_train = sc_X.fit_transform(X_train)\n",
    "X_test = sc_X.transform(X_test)"
   ]
  },
  {
   "cell_type": "code",
   "execution_count": 4,
   "id": "33a254ba",
   "metadata": {},
   "outputs": [
    {
     "data": {
      "text/plain": [
       "RandomForestRegressor(n_estimators=10, random_state=0)"
      ]
     },
     "execution_count": 4,
     "metadata": {},
     "output_type": "execute_result"
    }
   ],
   "source": [
    "# Creating a Random Forest Regression model and fitting it to the training data\n",
    "# This model I chose 10 trees (n_estimator=10)\n",
    "# Fitting Random Forest Regression to the dataset\n",
    "from sklearn.ensemble import RandomForestRegressor\n",
    "regressor = RandomForestRegressor(n_estimators = 10, random_state = 0)\n",
    "regressor.fit(X_train, y_train)"
   ]
  },
  {
   "cell_type": "code",
   "execution_count": 5,
   "id": "cb27962e",
   "metadata": {},
   "outputs": [],
   "source": [
    "# Predicting the Test set results\n",
    "y_pred = regressor.predict(X_test)\n",
    "# print(y_pred)"
   ]
  },
  {
   "cell_type": "code",
   "execution_count": 6,
   "id": "f56ed295",
   "metadata": {},
   "outputs": [
    {
     "data": {
      "text/plain": [
       "0.8498427857035118"
      ]
     },
     "execution_count": 6,
     "metadata": {},
     "output_type": "execute_result"
    }
   ],
   "source": [
    "# Now we assess the performance\n",
    "from sklearn.metrics import r2_score\n",
    "r2_score(y_test, y_pred)"
   ]
  },
  {
   "cell_type": "code",
   "execution_count": 7,
   "id": "9a07a359",
   "metadata": {},
   "outputs": [
    {
     "name": "stdout",
     "output_type": "stream",
     "text": [
      "Random Forest Performance on Training Model (R^2):  0.9720912370275533\n",
      "Random Forest Performance on Testing Model (R^2):  0.8498427857035118\n",
      "Training RMSE:  3.3329833642712465\n",
      "Testing RMSE:  7.942695173515432\n"
     ]
    }
   ],
   "source": [
    "# Outputs\n",
    "import math\n",
    "from sklearn.metrics import mean_squared_error\n",
    "\n",
    "train_predictY = regressor.predict(X_train)\n",
    "test_predictY = regressor.predict(X_test)\n",
    "\n",
    "trainR2 = r2_score(y_train, train_predictY)\n",
    "testR2 = r2_score(y_test, test_predictY)\n",
    "\n",
    "print(\"Random Forest Performance on Training Model (R^2): \", trainR2)\n",
    "print(\"Random Forest Performance on Testing Model (R^2): \", testR2)\n",
    "\n",
    "# Print RMSE (Accuracy for regression)\n",
    "train_RMSE = math.sqrt(mean_squared_error(y_train, train_predictY))\n",
    "test_RMSE = math.sqrt(mean_squared_error(y_test, test_predictY))\n",
    "\n",
    "print(\"Training RMSE: \", train_RMSE)\n",
    "print(\"Testing RMSE: \", test_RMSE)\n",
    "# print(\"MLR Predicted Y training: \", train_predictY)\n",
    "# print(\"MLR Predicted Y testing: \", test_predictY)"
   ]
  },
  {
   "cell_type": "code",
   "execution_count": 8,
   "id": "9e2de9a7",
   "metadata": {},
   "outputs": [
    {
     "data": {
      "image/png": "[encoded data removed]",
      "text/plain": [
       "<Figure size 720x720 with 1 Axes>"
      ]
     },
     "metadata": {
      "needs_background": "light"
     },
     "output_type": "display_data"
    }
   ],
   "source": [
    "# Regression plot\n",
    "import matplotlib.pyplot as plt\n",
    "import seaborn as sns\n",
    "plt.figure(figsize=(10, 10))\n",
    "with plt.style.context('ggplot'):\n",
    "    plt.scatter(y_test, test_predictY, color='red')\n",
    "    plt.plot(y_test, y_test, '-g', label='Expected regression line')\n",
    "    z = np.polyfit(y_test,test_predictY, 1)\n",
    "    plt.plot(np.polyval(z, y_test), y_test, color='blue', label='Modelled regression line')\n",
    "    plt.xlabel('Actual')\n",
    "    plt.ylabel('Predicted')\n",
    "    plt.legend()\n",
    "    plt.plot()\n",
    "    plt.title(\"Random Forest Regression\")"
   ]
  },
  {
   "cell_type": "code",
   "execution_count": null,
   "id": "f27f85b8",
   "metadata": {},
   "outputs": [],
   "source": []
  }
 ],
 "metadata": {
  "kernelspec": {
   "display_name": "Python 3 (ipykernel)",
   "language": "python",
   "name": "python3"
  },
  "language_info": {
   "codemirror_mode": {
    "name": "ipython",
    "version": 3
   },
   "file_extension": ".py",
   "mimetype": "text/x-python",
   "name": "python",
   "nbconvert_exporter": "python",
   "pygments_lexer": "ipython3",
   "version": "3.9.7"
  }
 },
 "nbformat": 4,
 "nbformat_minor": 5
}
