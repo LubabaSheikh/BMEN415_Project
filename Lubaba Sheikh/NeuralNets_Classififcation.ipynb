{
 "cells": [
  {
   "cell_type": "markdown",
   "id": "d55d1a18",
   "metadata": {},
   "source": [
    "# Neural Networks Classification"
   ]
  },
  {
   "cell_type": "code",
   "execution_count": 55,
   "id": "d2028ab3",
   "metadata": {},
   "outputs": [
    {
     "data": {
      "text/html": [
       "<div>\n",
       "<style scoped>\n",
       "    .dataframe tbody tr th:only-of-type {\n",
       "        vertical-align: middle;\n",
       "    }\n",
       "\n",
       "    .dataframe tbody tr th {\n",
       "        vertical-align: top;\n",
       "    }\n",
       "\n",
       "    .dataframe thead th {\n",
       "        text-align: right;\n",
       "    }\n",
       "</style>\n",
       "<table border=\"1\" class=\"dataframe\">\n",
       "  <thead>\n",
       "    <tr style=\"text-align: right;\">\n",
       "      <th></th>\n",
       "      <th>Pregnancies</th>\n",
       "      <th>Glucose</th>\n",
       "      <th>BloodPressure</th>\n",
       "      <th>SkinThickness</th>\n",
       "      <th>Insulin</th>\n",
       "      <th>BMI</th>\n",
       "      <th>DiabetesPedigreeFunction</th>\n",
       "      <th>Age</th>\n",
       "      <th>Outcome</th>\n",
       "    </tr>\n",
       "  </thead>\n",
       "  <tbody>\n",
       "    <tr>\n",
       "      <th>0</th>\n",
       "      <td>6</td>\n",
       "      <td>148</td>\n",
       "      <td>72</td>\n",
       "      <td>35</td>\n",
       "      <td>0</td>\n",
       "      <td>33.6</td>\n",
       "      <td>0.627</td>\n",
       "      <td>50</td>\n",
       "      <td>1</td>\n",
       "    </tr>\n",
       "    <tr>\n",
       "      <th>1</th>\n",
       "      <td>1</td>\n",
       "      <td>85</td>\n",
       "      <td>66</td>\n",
       "      <td>29</td>\n",
       "      <td>0</td>\n",
       "      <td>26.6</td>\n",
       "      <td>0.351</td>\n",
       "      <td>31</td>\n",
       "      <td>0</td>\n",
       "    </tr>\n",
       "    <tr>\n",
       "      <th>2</th>\n",
       "      <td>8</td>\n",
       "      <td>183</td>\n",
       "      <td>64</td>\n",
       "      <td>0</td>\n",
       "      <td>0</td>\n",
       "      <td>23.3</td>\n",
       "      <td>0.672</td>\n",
       "      <td>32</td>\n",
       "      <td>1</td>\n",
       "    </tr>\n",
       "    <tr>\n",
       "      <th>3</th>\n",
       "      <td>1</td>\n",
       "      <td>89</td>\n",
       "      <td>66</td>\n",
       "      <td>23</td>\n",
       "      <td>94</td>\n",
       "      <td>28.1</td>\n",
       "      <td>0.167</td>\n",
       "      <td>21</td>\n",
       "      <td>0</td>\n",
       "    </tr>\n",
       "    <tr>\n",
       "      <th>4</th>\n",
       "      <td>0</td>\n",
       "      <td>137</td>\n",
       "      <td>40</td>\n",
       "      <td>35</td>\n",
       "      <td>168</td>\n",
       "      <td>43.1</td>\n",
       "      <td>2.288</td>\n",
       "      <td>33</td>\n",
       "      <td>1</td>\n",
       "    </tr>\n",
       "  </tbody>\n",
       "</table>\n",
       "</div>"
      ],
      "text/plain": [
       "   Pregnancies  Glucose  BloodPressure  SkinThickness  Insulin   BMI  \\\n",
       "0            6      148             72             35        0  33.6   \n",
       "1            1       85             66             29        0  26.6   \n",
       "2            8      183             64              0        0  23.3   \n",
       "3            1       89             66             23       94  28.1   \n",
       "4            0      137             40             35      168  43.1   \n",
       "\n",
       "   DiabetesPedigreeFunction  Age  Outcome  \n",
       "0                     0.627   50        1  \n",
       "1                     0.351   31        0  \n",
       "2                     0.672   32        1  \n",
       "3                     0.167   21        0  \n",
       "4                     2.288   33        1  "
      ]
     },
     "execution_count": 55,
     "metadata": {},
     "output_type": "execute_result"
    }
   ],
   "source": [
    "# https://www.pluralsight.com/guides/deep-learning-model-perform-binary-classification\n",
    "# Import Data\n",
    "import pandas as pd\n",
    "df = pd.read_csv('Group16_ClassificationData.csv')\n",
    "df.head()"
   ]
  },
  {
   "cell_type": "code",
   "execution_count": 56,
   "id": "f3f19bcf",
   "metadata": {},
   "outputs": [
    {
     "name": "stdout",
     "output_type": "stream",
     "text": [
      "['Pregnancies', 'Glucose', 'BloodPressure', 'SkinThickness', 'Insulin', 'BMI', 'DiabetesPedigreeFunction', 'Age']\n"
     ]
    }
   ],
   "source": [
    "# Splitting data set into train and test using Feature Matrix and Dependent Vector\n",
    "properties = list(df.columns.values)\n",
    "properties.remove('Outcome') # remove the outcome\n",
    "print(properties)\n",
    "X = df[properties]\n",
    "y = df['Outcome'] # y vector is the Outcome"
   ]
  },
  {
   "cell_type": "code",
   "execution_count": 57,
   "id": "8619e713",
   "metadata": {},
   "outputs": [],
   "source": [
    "# The next step will be to divide the data into test and train sets. This is achieved using test_train_split function provided \n",
    "# in the model_selection class of sklearn module. 80% train, 20% test\n",
    "from sklearn.model_selection import train_test_split\n",
    "X_train, X_test, y_train, y_test = train_test_split(X, y, test_size=0.20, random_state=0)"
   ]
  },
  {
   "cell_type": "code",
   "execution_count": 58,
   "id": "b7b541f6",
   "metadata": {},
   "outputs": [],
   "source": [
    "# Normalize the data\n",
    "from sklearn.preprocessing import StandardScaler\n",
    "sc_X = StandardScaler() # arrange data into standard normal distribution (mean = 0, unit variance) -- improves accuracy\n",
    "X_train = sc_X.fit_transform(X_train)\n",
    "X_test = sc_X.transform(X_test)"
   ]
  },
  {
   "cell_type": "code",
   "execution_count": 59,
   "id": "0b1f437a",
   "metadata": {},
   "outputs": [],
   "source": [
    "# Model Creation\n",
    "# The below code creates a Neural Network that has three layers. There are two layers of 16 nodes each and one output node. \n",
    "# The last node uses the sigmoid activation function. The other two layers use ReLU (Rectified Linear Units) as the activation function.\n",
    "import keras\n",
    "import tensorflow as tf\n",
    "from keras.models import Sequential\n",
    "from keras.layers import Dense, Dropout, Activation\n",
    "model = keras.Sequential([\n",
    "    keras.layers.Flatten(input_shape=(8,)), # needs to be 8 because of 8 features in data\n",
    "    keras.layers.Dense(16, activation=tf.nn.relu),\n",
    "    keras.layers.Dense(16, activation=tf.nn.relu),\n",
    "    keras.layers.Dense(1, activation=tf.nn.sigmoid),\n",
    "])"
   ]
  },
  {
   "cell_type": "code",
   "execution_count": 60,
   "id": "9fb79548",
   "metadata": {},
   "outputs": [
    {
     "name": "stdout",
     "output_type": "stream",
     "text": [
      "Epoch 1/50\n",
      "614/614 [==============================] - 1s 1ms/step - loss: 0.5664 - accuracy: 0.7003\n",
      "Epoch 2/50\n",
      "614/614 [==============================] - 1s 1ms/step - loss: 0.4809 - accuracy: 0.7720\n",
      "Epoch 3/50\n",
      "614/614 [==============================] - 1s 1ms/step - loss: 0.4668 - accuracy: 0.7671\n",
      "Epoch 4/50\n",
      "614/614 [==============================] - 1s 1ms/step - loss: 0.4580 - accuracy: 0.7752\n",
      "Epoch 5/50\n",
      "614/614 [==============================] - 1s 1ms/step - loss: 0.4524 - accuracy: 0.7850\n",
      "Epoch 6/50\n",
      "614/614 [==============================] - 1s 1ms/step - loss: 0.4468 - accuracy: 0.7866\n",
      "Epoch 7/50\n",
      "614/614 [==============================] - 1s 1ms/step - loss: 0.4414 - accuracy: 0.7818\n",
      "Epoch 8/50\n",
      "614/614 [==============================] - 1s 1ms/step - loss: 0.4377 - accuracy: 0.7915\n",
      "Epoch 9/50\n",
      "614/614 [==============================] - 1s 983us/step - loss: 0.4324 - accuracy: 0.7883\n",
      "Epoch 10/50\n",
      "614/614 [==============================] - 1s 1ms/step - loss: 0.4290 - accuracy: 0.7834\n",
      "Epoch 11/50\n",
      "614/614 [==============================] - 1s 1ms/step - loss: 0.4226 - accuracy: 0.7932\n",
      "Epoch 12/50\n",
      "614/614 [==============================] - 1s 1ms/step - loss: 0.4207 - accuracy: 0.7850\n",
      "Epoch 13/50\n",
      "614/614 [==============================] - 1s 1ms/step - loss: 0.4160 - accuracy: 0.7866\n",
      "Epoch 14/50\n",
      "614/614 [==============================] - 1s 945us/step - loss: 0.4124 - accuracy: 0.7997\n",
      "Epoch 15/50\n",
      "614/614 [==============================] - 1s 1ms/step - loss: 0.4062 - accuracy: 0.8046\n",
      "Epoch 16/50\n",
      "614/614 [==============================] - 1s 977us/step - loss: 0.4048 - accuracy: 0.7866\n",
      "Epoch 17/50\n",
      "614/614 [==============================] - 1s 922us/step - loss: 0.3976 - accuracy: 0.8078\n",
      "Epoch 18/50\n",
      "614/614 [==============================] - 1s 919us/step - loss: 0.3932 - accuracy: 0.8078\n",
      "Epoch 19/50\n",
      "614/614 [==============================] - 1s 966us/step - loss: 0.3942 - accuracy: 0.7964\n",
      "Epoch 20/50\n",
      "614/614 [==============================] - 1s 978us/step - loss: 0.3892 - accuracy: 0.8029\n",
      "Epoch 21/50\n",
      "614/614 [==============================] - 1s 1ms/step - loss: 0.3883 - accuracy: 0.8046\n",
      "Epoch 22/50\n",
      "614/614 [==============================] - 1s 881us/step - loss: 0.3842 - accuracy: 0.8192\n",
      "Epoch 23/50\n",
      "614/614 [==============================] - 1s 981us/step - loss: 0.3771 - accuracy: 0.8160\n",
      "Epoch 24/50\n",
      "614/614 [==============================] - 1s 1ms/step - loss: 0.3747 - accuracy: 0.8143\n",
      "Epoch 25/50\n",
      "614/614 [==============================] - 1s 979us/step - loss: 0.3700 - accuracy: 0.8257\n",
      "Epoch 26/50\n",
      "614/614 [==============================] - 1s 911us/step - loss: 0.3670 - accuracy: 0.8306\n",
      "Epoch 27/50\n",
      "614/614 [==============================] - 1s 946us/step - loss: 0.3611 - accuracy: 0.8257\n",
      "Epoch 28/50\n",
      "614/614 [==============================] - 1s 938us/step - loss: 0.3606 - accuracy: 0.8355\n",
      "Epoch 29/50\n",
      "614/614 [==============================] - 1s 959us/step - loss: 0.3561 - accuracy: 0.8339\n",
      "Epoch 30/50\n",
      "614/614 [==============================] - 1s 1ms/step - loss: 0.3491 - accuracy: 0.8404\n",
      "Epoch 31/50\n",
      "614/614 [==============================] - 1s 1ms/step - loss: 0.3461 - accuracy: 0.8453\n",
      "Epoch 32/50\n",
      "614/614 [==============================] - 1s 1ms/step - loss: 0.3469 - accuracy: 0.8404\n",
      "Epoch 33/50\n",
      "614/614 [==============================] - 1s 1ms/step - loss: 0.3420 - accuracy: 0.8404\n",
      "Epoch 34/50\n",
      "614/614 [==============================] - 1s 1ms/step - loss: 0.3402 - accuracy: 0.8469\n",
      "Epoch 35/50\n",
      "614/614 [==============================] - 1s 1ms/step - loss: 0.3388 - accuracy: 0.8550\n",
      "Epoch 36/50\n",
      "614/614 [==============================] - 1s 1ms/step - loss: 0.3301 - accuracy: 0.8469\n",
      "Epoch 37/50\n",
      "614/614 [==============================] - 1s 1ms/step - loss: 0.3327 - accuracy: 0.8420\n",
      "Epoch 38/50\n",
      "614/614 [==============================] - 1s 1ms/step - loss: 0.3293 - accuracy: 0.8550\n",
      "Epoch 39/50\n",
      "614/614 [==============================] - 1s 1ms/step - loss: 0.3236 - accuracy: 0.8599\n",
      "Epoch 40/50\n",
      "614/614 [==============================] - 1s 1ms/step - loss: 0.3267 - accuracy: 0.8567\n",
      "Epoch 41/50\n",
      "614/614 [==============================] - 1s 1ms/step - loss: 0.3199 - accuracy: 0.8534\n",
      "Epoch 42/50\n",
      "614/614 [==============================] - 1s 1ms/step - loss: 0.3172 - accuracy: 0.8616\n",
      "Epoch 43/50\n",
      "614/614 [==============================] - 1s 1ms/step - loss: 0.3162 - accuracy: 0.8616\n",
      "Epoch 44/50\n",
      "614/614 [==============================] - 1s 1ms/step - loss: 0.3107 - accuracy: 0.8697\n",
      "Epoch 45/50\n",
      "614/614 [==============================] - 1s 1ms/step - loss: 0.3126 - accuracy: 0.8469\n",
      "Epoch 46/50\n",
      "614/614 [==============================] - 1s 1ms/step - loss: 0.3106 - accuracy: 0.8599\n",
      "Epoch 47/50\n",
      "614/614 [==============================] - 1s 1ms/step - loss: 0.3022 - accuracy: 0.8713\n",
      "Epoch 48/50\n",
      "614/614 [==============================] - 1s 1ms/step - loss: 0.3057 - accuracy: 0.8616\n",
      "Epoch 49/50\n",
      "614/614 [==============================] - 1s 1ms/step - loss: 0.2990 - accuracy: 0.8681\n",
      "Epoch 50/50\n",
      "614/614 [==============================] - 1s 1ms/step - loss: 0.2989 - accuracy: 0.8746\n",
      "5/5 [==============================] - 0s 2ms/step - loss: 0.6569 - accuracy: 0.7338\n"
     ]
    }
   ],
   "source": [
    "# Model compilation\n",
    "model.compile(optimizer='adam',\n",
    "              loss='binary_crossentropy',\n",
    "              metrics=['accuracy'])\n",
    "\n",
    "model.fit(X_train, y_train, epochs=50, batch_size=1)\n",
    "test_loss, test_acc = model.evaluate(X_test, y_test)"
   ]
  },
  {
   "cell_type": "code",
   "execution_count": 61,
   "id": "ccabd8d6",
   "metadata": {},
   "outputs": [
    {
     "name": "stdout",
     "output_type": "stream",
     "text": [
      "Train Accuracy:  0.8827361563517915\n",
      "Test Accuracy:  0.7337662337662337\n"
     ]
    }
   ],
   "source": [
    "from sklearn.metrics import accuracy_score\n",
    "\n",
    "# Now run predictions\n",
    "y_pred_train = model.predict(X_train)\n",
    "y_pred_test = model.predict(X_test)\n",
    "\n",
    "# Print score/accuracy\n",
    "train_accuracy = accuracy_score(y_train.round(), y_pred_train.round())\n",
    "test_accuracy = accuracy_score(y_test.round(), y_pred_test.round())\n",
    "print(\"Train Accuracy: \", train_accuracy)\n",
    "print(\"Test Accuracy: \", test_accuracy)"
   ]
  },
  {
   "cell_type": "code",
   "execution_count": 62,
   "id": "9d8f8611",
   "metadata": {},
   "outputs": [
    {
     "data": {
      "image/png": "[encoded data removed]",
      "text/plain": [
       "<Figure size 504x360 with 2 Axes>"
      ]
     },
     "metadata": {},
     "output_type": "display_data"
    }
   ],
   "source": [
    "# Print Confusion Matrix\n",
    "import matplotlib.pyplot as plt\n",
    "from sklearn.metrics import classification_report, confusion_matrix\n",
    "import seaborn as sns\n",
    "plt.figure(figsize = (7,5))\n",
    "sns.set(font_scale=3.0)\n",
    "dataplot = sns.heatmap(confusion_matrix(y_test, y_pred_test.round())/100,annot=True, fmt='.2f', cmap='RdYlGn')"
   ]
  },
  {
   "cell_type": "code",
   "execution_count": 16,
   "id": "6680a114",
   "metadata": {},
   "outputs": [],
   "source": [
    "# Creating a visual of the Neural Network\n",
    "from eiffel2 import builder\n",
    "builder([8, 16, 16, 1 , 1], bmode='night')"
   ]
  }
 ],
 "metadata": {
  "kernelspec": {
   "display_name": "Python 3 (ipykernel)",
   "language": "python",
   "name": "python3"
  },
  "language_info": {
   "codemirror_mode": {
    "name": "ipython",
    "version": 3
   },
   "file_extension": ".py",
   "mimetype": "text/x-python",
   "name": "python",
   "nbconvert_exporter": "python",
   "pygments_lexer": "ipython3",
   "version": "3.9.7"
  }
 },
 "nbformat": 4,
 "nbformat_minor": 5
}
